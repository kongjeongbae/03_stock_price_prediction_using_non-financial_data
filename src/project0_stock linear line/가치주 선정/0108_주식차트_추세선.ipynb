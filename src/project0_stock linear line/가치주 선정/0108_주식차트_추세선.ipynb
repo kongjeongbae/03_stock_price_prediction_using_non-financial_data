{
 "cells": [
  {
   "cell_type": "code",
   "execution_count": 1,
   "metadata": {},
   "outputs": [],
   "source": [
    "import pandas as pd\n",
    "import numpy as np"
   ]
  },
  {
   "cell_type": "code",
   "execution_count": 2,
   "metadata": {},
   "outputs": [
    {
     "data": {
      "text/html": [
       "<div>\n",
       "<style scoped>\n",
       "    .dataframe tbody tr th:only-of-type {\n",
       "        vertical-align: middle;\n",
       "    }\n",
       "\n",
       "    .dataframe tbody tr th {\n",
       "        vertical-align: top;\n",
       "    }\n",
       "\n",
       "    .dataframe thead th {\n",
       "        text-align: right;\n",
       "    }\n",
       "</style>\n",
       "<table border=\"1\" class=\"dataframe\">\n",
       "  <thead>\n",
       "    <tr style=\"text-align: right;\">\n",
       "      <th></th>\n",
       "      <th>code</th>\n",
       "      <th>company</th>\n",
       "    </tr>\n",
       "  </thead>\n",
       "  <tbody>\n",
       "    <tr>\n",
       "      <th>0</th>\n",
       "      <td>6840</td>\n",
       "      <td>AK홀딩스</td>\n",
       "    </tr>\n",
       "    <tr>\n",
       "      <th>1</th>\n",
       "      <td>27410</td>\n",
       "      <td>BGF</td>\n",
       "    </tr>\n",
       "    <tr>\n",
       "      <th>2</th>\n",
       "      <td>282330</td>\n",
       "      <td>BGF리테일</td>\n",
       "    </tr>\n",
       "    <tr>\n",
       "      <th>3</th>\n",
       "      <td>138930</td>\n",
       "      <td>BNK금융지주</td>\n",
       "    </tr>\n",
       "    <tr>\n",
       "      <th>4</th>\n",
       "      <td>1040</td>\n",
       "      <td>CJ</td>\n",
       "    </tr>\n",
       "  </tbody>\n",
       "</table>\n",
       "</div>"
      ],
      "text/plain": [
       "     code  company\n",
       "0    6840    AK홀딩스\n",
       "1   27410      BGF\n",
       "2  282330   BGF리테일\n",
       "3  138930  BNK금융지주\n",
       "4    1040       CJ"
      ]
     },
     "execution_count": 2,
     "metadata": {},
     "output_type": "execute_result"
    }
   ],
   "source": [
    "a = pd.read_csv('stockcode.csv')\n",
    "a.head()"
   ]
  },
  {
   "cell_type": "code",
   "execution_count": 3,
   "metadata": {},
   "outputs": [],
   "source": [
    "list_code = []\n",
    "list_company = []\n",
    "for i in range(len(a)):\n",
    "    list_code.append(str(a['code'][i]).zfill(6))\n",
    "    list_company.append(a['company'][i])"
   ]
  },
  {
   "cell_type": "code",
   "execution_count": 11,
   "metadata": {},
   "outputs": [
    {
     "data": {
      "text/plain": [
       "0      38636.000000\n",
       "1      40034.800781\n",
       "2      39070.101563\n",
       "3      37816.000000\n",
       "4      38009.000000\n",
       "5      38636.000000\n",
       "6      38105.500000\n",
       "7      44231.300781\n",
       "8      44665.398438\n",
       "9      50839.398438\n",
       "10     55277.000000\n",
       "11     56820.500000\n",
       "12     55855.800781\n",
       "13     57206.398438\n",
       "14     54987.601563\n",
       "15     54312.300781\n",
       "16     53058.199219\n",
       "17     53926.500000\n",
       "18     56917.000000\n",
       "19     55180.601563\n",
       "20     58942.898438\n",
       "21     68782.796875\n",
       "22     69072.203125\n",
       "23     67142.796875\n",
       "24     68203.898438\n",
       "25     63091.101563\n",
       "26     68975.703125\n",
       "27     66600.000000\n",
       "28     62900.000000\n",
       "29     61800.000000\n",
       "           ...     \n",
       "232    83300.000000\n",
       "233    76500.000000\n",
       "234    75400.000000\n",
       "235    73000.000000\n",
       "236    77700.000000\n",
       "237    76400.000000\n",
       "238    77600.000000\n",
       "239    76600.000000\n",
       "240    74800.000000\n",
       "241    71700.000000\n",
       "242    67200.000000\n",
       "243    67200.000000\n",
       "244    63500.000000\n",
       "245    64300.000000\n",
       "246    60300.000000\n",
       "247    61200.000000\n",
       "248    55600.000000\n",
       "249    49750.000000\n",
       "250    47550.000000\n",
       "251    43700.000000\n",
       "252    46600.000000\n",
       "253    46650.000000\n",
       "254    48650.000000\n",
       "255    51000.000000\n",
       "256    53200.000000\n",
       "257    55400.000000\n",
       "258    55900.000000\n",
       "259    55300.000000\n",
       "260    54000.000000\n",
       "261    54000.000000\n",
       "Name: Close, Length: 262, dtype: float64"
      ]
     },
     "execution_count": 11,
     "metadata": {},
     "output_type": "execute_result"
    }
   ],
   "source": [
    "b = pd.read_csv('%s.KS.csv' % list_code[0])\n",
    "b['Close']"
   ]
  },
  {
   "cell_type": "code",
   "execution_count": 13,
   "metadata": {},
   "outputs": [],
   "source": [
    "import matplotlib.pyplot as plt"
   ]
  },
  {
   "cell_type": "code",
   "execution_count": 14,
   "metadata": {},
   "outputs": [
    {
     "data": {
      "text/plain": [
       "[<matplotlib.lines.Line2D at 0x2a6dbfef320>]"
      ]
     },
     "execution_count": 14,
     "metadata": {},
     "output_type": "execute_result"
    },
    {
     "data": {
      "image/png": "[encoded data removed]",
      "text/plain": [
       "<Figure size 432x288 with 1 Axes>"
      ]
     },
     "metadata": {},
     "output_type": "display_data"
    }
   ],
   "source": [
    "plt.plot(b['Close'])"
   ]
  },
  {
   "cell_type": "code",
   "execution_count": null,
   "metadata": {},
   "outputs": [],
   "source": [
    "from sklearn.linear_model import LinearRegression\n",
    "lm = LinearRegression()\n",
    "lm.fit(X_train,y_train)"
   ]
  }
 ],
 "metadata": {
  "kernelspec": {
   "display_name": "Python 3",
   "language": "python",
   "name": "python3"
  },
  "language_info": {
   "codemirror_mode": {
    "name": "ipython",
    "version": 3
   },
   "file_extension": ".py",
   "mimetype": "text/x-python",
   "name": "python",
   "nbconvert_exporter": "python",
   "pygments_lexer": "ipython3",
   "version": "3.6.5"
  }
 },
 "nbformat": 4,
 "nbformat_minor": 2
}
