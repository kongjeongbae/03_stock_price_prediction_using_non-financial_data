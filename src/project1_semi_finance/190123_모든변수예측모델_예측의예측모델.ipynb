{
 "cells": [
  {
   "cell_type": "code",
   "execution_count": 1,
   "metadata": {},
   "outputs": [
    {
     "name": "stderr",
     "output_type": "stream",
     "text": [
      "C:\\Python\\Anaconda3-52\\lib\\site-packages\\h5py\\__init__.py:36: FutureWarning: Conversion of the second argument of issubdtype from `float` to `np.floating` is deprecated. In future, it will be treated as `np.float64 == np.dtype(float).type`.\n",
      "  from ._conv import register_converters as _register_converters\n"
     ]
    }
   ],
   "source": [
    "import tensorflow as tf\n",
    "import numpy as np\n",
    "import pandas as pd\n",
    "import datetime\n",
    "import matplotlib.pyplot as plt"
   ]
  },
  {
   "cell_type": "code",
   "execution_count": 57,
   "metadata": {},
   "outputs": [],
   "source": [
    "# 랜덤에 의해 똑같은 결과를 재현하도록 시드 설정\n",
    "# 하이퍼파라미터를 튜닝하기 위한 용도(흔들리면 무엇때문에 좋아졌는지 알기 어려움)\n",
    "tf.set_random_seed(337)"
   ]
  },
  {
   "cell_type": "code",
   "execution_count": 58,
   "metadata": {},
   "outputs": [],
   "source": [
    "# Standardization\n",
    "def data_standardization(x):\n",
    "    x_np = np.asarray(x)\n",
    "    return (x_np - x_np.mean()) / x_np.std()"
   ]
  },
  {
   "cell_type": "code",
   "execution_count": 59,
   "metadata": {},
   "outputs": [],
   "source": [
    "# 너무 작거나 너무 큰 값이 학습을 방해하는 것을 방지하고자 정규화한다\n",
    "# x가 양수라는 가정하에 최소값과 최대값을 이용하여 0~1사이의 값으로 변환\n",
    "# Min-Max scaling\n",
    "def min_max_scaling(x):\n",
    "    x_np = np.asarray(x)\n",
    "    return (x_np - x_np.min()) / (x_np.max() - x_np.min() + 1e-7) # 1e-7은 0으로 나누는 오류 예방차원"
   ]
  },
  {
   "cell_type": "code",
   "execution_count": 60,
   "metadata": {},
   "outputs": [],
   "source": [
    "# 정규화된 값을 원래의 값으로 되돌린다\n",
    "# 정규화하기 이전의 org_x값과 되돌리고 싶은 x를 입력하면 역정규화된 값을 리턴한다\n",
    "def reverse_min_max_scaling(org_x, x):\n",
    "    org_x_np = np.asarray(org_x)\n",
    "    x_np = np.asarray(x)\n",
    "    return (x_np * (org_x_np.max() - org_x_np.min() + 1e-7)) + org_x_np.min()"
   ]
  },
  {
   "cell_type": "code",
   "execution_count": 75,
   "metadata": {},
   "outputs": [],
   "source": [
    "# 하이퍼파라미터\n",
    "input_data_column_cnt = 6  # 입력데이터의 컬럼 개수(Variable 개수)\n",
    "output_data_column_cnt = 1 # 결과데이터의 컬럼 개수\n",
    " \n",
    "seq_length = 30            # 1개 시퀀스의 길이(시계열데이터 입력 개수)\n",
    "rnn_cell_hidden_dim = 20   # 각 셀의 (hidden)출력 크기\n",
    "forget_bias = 1.0          # 망각편향(기본값 1.0)\n",
    "num_stacked_layers = 1     # stacked LSTM layers 개수\n",
    "keep_prob = 1.0            # dropout할 때 keep할 비율\n",
    " \n",
    "epoch_num = 1000           # 에폭 횟수(학습용전체데이터를 몇 회 반복해서 학습할 것인가 입력)\n",
    "learning_rate = 0.01       # 학습률"
   ]
  },
  {
   "cell_type": "code",
   "execution_count": 76,
   "metadata": {},
   "outputs": [
    {
     "data": {
      "text/html": [
       "<div>\n",
       "<style scoped>\n",
       "    .dataframe tbody tr th:only-of-type {\n",
       "        vertical-align: middle;\n",
       "    }\n",
       "\n",
       "    .dataframe tbody tr th {\n",
       "        vertical-align: top;\n",
       "    }\n",
       "\n",
       "    .dataframe thead th {\n",
       "        text-align: right;\n",
       "    }\n",
       "</style>\n",
       "<table border=\"1\" class=\"dataframe\">\n",
       "  <thead>\n",
       "    <tr style=\"text-align: right;\">\n",
       "      <th></th>\n",
       "      <th>Open</th>\n",
       "      <th>High</th>\n",
       "      <th>Low</th>\n",
       "      <th>Close</th>\n",
       "      <th>Adj Close</th>\n",
       "      <th>Volume</th>\n",
       "    </tr>\n",
       "  </thead>\n",
       "  <tbody>\n",
       "    <tr>\n",
       "      <th>0</th>\n",
       "      <td>Open</td>\n",
       "      <td>High</td>\n",
       "      <td>Low</td>\n",
       "      <td>Close</td>\n",
       "      <td>Adj Close</td>\n",
       "      <td>Volume</td>\n",
       "    </tr>\n",
       "    <tr>\n",
       "      <th>1</th>\n",
       "      <td>2.437500</td>\n",
       "      <td>2.500000</td>\n",
       "      <td>1.927083</td>\n",
       "      <td>1.958333</td>\n",
       "      <td>1.958333</td>\n",
       "      <td>72156000</td>\n",
       "    </tr>\n",
       "  </tbody>\n",
       "</table>\n",
       "</div>"
      ],
      "text/plain": [
       "       Open      High       Low     Close  Adj Close    Volume\n",
       "0      Open      High       Low     Close  Adj Close    Volume\n",
       "1  2.437500  2.500000  1.927083  1.958333   1.958333  72156000"
      ]
     },
     "execution_count": 76,
     "metadata": {},
     "output_type": "execute_result"
    }
   ],
   "source": [
    "raw_dataframe.head(2)"
   ]
  },
  {
   "cell_type": "code",
   "execution_count": 77,
   "metadata": {},
   "outputs": [
    {
     "name": "stdout",
     "output_type": "stream",
     "text": [
      "<class 'pandas.core.frame.DataFrame'>\n",
      "RangeIndex: 5179 entries, 0 to 5178\n",
      "Data columns (total 7 columns):\n",
      "Date         5179 non-null object\n",
      "Open         5179 non-null object\n",
      "High         5179 non-null object\n",
      "Low          5179 non-null object\n",
      "Close        5179 non-null object\n",
      "Adj Close    5179 non-null object\n",
      "Volume       5179 non-null object\n",
      "dtypes: object(7)\n",
      "memory usage: 283.3+ KB\n",
      "stock_info.shape:  (5178, 6)\n",
      "stock_info[0]:  [2.437500e+00 2.500000e+00 1.927083e+00 1.958333e+00 1.958333e+00\n",
      " 7.215600e+07]\n"
     ]
    }
   ],
   "source": [
    "# 데이터를 로딩한다.\n",
    "stock_file_name = 'AMZN.csv' # 아마존 주가데이터 파일\n",
    "encoding = 'euc-kr' # 문자 인코딩\n",
    "names = ['Date','Open','High','Low','Close','Adj Close','Volume']\n",
    "raw_dataframe = pd.read_csv('./data/AMZN.csv', names=names, encoding=encoding) #판다스이용 csv파일 로딩\n",
    "raw_dataframe.info() # 데이터 정보 출력\n",
    " \n",
    "# raw_dataframe.drop('Date', axis=1, inplace=True) # 시간열을 제거하고 dataframe 재생성하지 않기\n",
    "del raw_dataframe['Date'] # 위 줄과 같은 효과\n",
    " \n",
    "stock_info = raw_dataframe.values[1:].astype(np.float) # 금액&거래량 문자열을 부동소수점형으로 변환한다\n",
    "print(\"stock_info.shape: \", stock_info.shape)\n",
    "print(\"stock_info[0]: \", stock_info[0])"
   ]
  },
  {
   "cell_type": "code",
   "execution_count": 78,
   "metadata": {},
   "outputs": [
    {
     "name": "stdout",
     "output_type": "stream",
     "text": [
      "price.shape:  (5178, 5)\n",
      "price[0]:  [2.4375   2.5      1.927083 1.958333 1.958333]\n",
      "norm_price[0]:  [0.00092814 0.00097971 0.00050704 0.00053282 0.00053282]\n",
      "====================================================================================================\n"
     ]
    }
   ],
   "source": [
    "# 데이터 전처리\n",
    "# 가격과 거래량 수치의 차이가 많아나서 각각 별도로 정규화한다\n",
    " \n",
    "# 가격형태 데이터들을 정규화한다\n",
    "# ['Open','High','Low','Close','Adj Close','Volume']에서 'Adj Close'까지 취함\n",
    "# 곧, 마지막 열 Volume를 제외한 모든 열\n",
    "price = stock_info[:,:-1]\n",
    "norm_price = min_max_scaling(price) # 가격형태 데이터 정규화 처리\n",
    "print(\"price.shape: \", price.shape)\n",
    "print(\"price[0]: \", price[0])\n",
    "print(\"norm_price[0]: \", norm_price[0])\n",
    "print(\"=\"*100) # 화면상 구분용"
   ]
  },
  {
   "cell_type": "code",
   "execution_count": 79,
   "metadata": {},
   "outputs": [
    {
     "name": "stdout",
     "output_type": "stream",
     "text": [
      "volume.shape:  (5178, 1)\n",
      "volume[0]:  [72156000.]\n",
      "norm_volume[0]:  [0.69017161]\n",
      "====================================================================================================\n"
     ]
    }
   ],
   "source": [
    "# 거래량형태 데이터를 정규화한다\n",
    "# ['Open','High','Low','Close','Adj Close','Volume']에서 마지막 'Volume'만 취함\n",
    "# [:,-1]이 아닌 [:,-1:]이므로 주의하자! 스칼라가아닌 벡터값 산출해야만 쉽게 병합 가능\n",
    "volume = stock_info[:,-1:]\n",
    "norm_volume = min_max_scaling(volume) # 거래량형태 데이터 정규화 처리\n",
    "print(\"volume.shape: \", volume.shape)\n",
    "print(\"volume[0]: \", volume[0])\n",
    "print(\"norm_volume[0]: \", norm_volume[0])\n",
    "print(\"=\"*100) # 화면상 구분용"
   ]
  },
  {
   "cell_type": "code",
   "execution_count": 87,
   "metadata": {},
   "outputs": [
    {
     "name": "stdout",
     "output_type": "stream",
     "text": [
      "x.shape:  (5178, 6)\n",
      "x[0]:  [9.28143131e-04 9.79706638e-04 5.07040880e-04 5.32822633e-04\n",
      " 5.32822633e-04 6.90171607e-01]\n",
      "x[-1]:  [0.96451605 0.96645482 0.95354329 0.95758589 0.95758589 0.02142033]\n",
      "====================================================================================================\n",
      "y[0]:  [0.00053282]\n",
      "y[-1]:  [0.95758589]\n"
     ]
    }
   ],
   "source": [
    "# 행은 그대로 두고 열을 우측에 붙여 합친다\n",
    "x = np.concatenate((norm_price, norm_volume), axis=1) # axis=1, 세로로 합친다\n",
    "print(\"x.shape: \", x.shape)\n",
    "print(\"x[0]: \", x[0])    # x의 첫 값\n",
    "print(\"x[-1]: \", x[-1])  # x의 마지막 값\n",
    "print(\"=\"*100) # 화면상 구분용\n",
    " \n",
    "y = x[:, [-3]] # 타켓은 주식 종가이다\n",
    "print(\"y[0]: \",y[0])     # y의 첫 값\n",
    "print(\"y[-1]: \",y[-1])   # y의 마지막 값"
   ]
  },
  {
   "cell_type": "code",
   "execution_count": 83,
   "metadata": {
    "scrolled": true
   },
   "outputs": [],
   "source": [
    "# dataX = [] # 입력으로 사용될 Sequence Data\n",
    "# dataY = [] # 출력(타켓)으로 사용\n",
    " \n",
    "# for i in range(0, len(y) - seq_length):\n",
    "#     _x = x[i : i+seq_length] # x[0:30] => 0~29개 총 30개\n",
    "#     _y = y[i + seq_length] # 다음 나타날 주가(정답) y[30] => 31번째 값임!!!\n",
    "#     if i is 0:\n",
    "#         print(_x, \"->\", _y) # 첫번째 행만 출력해 봄\n",
    "#     dataX.append(_x) # dataX 리스트에 추가\n",
    "#     dataY.append(_y) # dataY 리스트에 추가"
   ]
  },
  {
   "cell_type": "markdown",
   "metadata": {},
   "source": [
    "# 출력값을 다시 입력값으로 받는 모델"
   ]
  },
  {
   "cell_type": "code",
   "execution_count": 90,
   "metadata": {},
   "outputs": [
    {
     "name": "stdout",
     "output_type": "stream",
     "text": [
      "[[9.28143131e-04 9.79706638e-04 5.07040880e-04 5.32822633e-04\n",
      "  5.32822633e-04 6.90171607e-01]\n",
      " [5.41416826e-04 5.50011019e-04 3.26568604e-04 3.43756990e-04\n",
      "  3.43756990e-04 1.36869475e-01]\n",
      " [3.69538744e-04 3.78132112e-04 2.57817536e-04 3.26568604e-04\n",
      "  3.26568604e-04 5.41168313e-02]\n",
      " [3.43756990e-04 3.60944551e-04 2.66411729e-04 2.66411729e-04\n",
      "  2.66411729e-04 4.79574739e-02]\n",
      " [2.66411729e-04 2.75005097e-04 5.15635073e-05 9.45328216e-05\n",
      "  9.45328216e-05 1.76864852e-01]\n",
      " [1.03127015e-04 1.11721207e-04 0.00000000e+00 6.87510680e-05\n",
      "  6.87510680e-05 1.08719015e-01]\n",
      " [7.73452609e-05 1.71878083e-04 1.71875607e-05 1.54690522e-04\n",
      "  1.54690522e-04 1.48783729e-01]\n",
      " [1.63284715e-04 2.75005097e-04 1.20314575e-04 2.23441590e-04\n",
      "  2.23441590e-04 7.90662738e-02]\n",
      " [2.57817536e-04 2.66411729e-04 1.80472275e-04 1.80472275e-04\n",
      "  1.80472275e-04 3.93597966e-02]\n",
      " [1.89066468e-04 1.89066468e-04 1.37502961e-04 1.58987206e-04\n",
      "  1.58987206e-04 2.87513723e-02]\n",
      " [1.54690522e-04 1.63284715e-04 1.37502961e-04 1.54690522e-04\n",
      "  1.54690522e-04 2.02923673e-02]\n",
      " [1.63284715e-04 1.80472275e-04 1.54690522e-04 1.63284715e-04\n",
      "  1.63284715e-04 1.00537355e-03]\n",
      " [1.80472275e-04 1.80472275e-04 1.37502961e-04 1.37502961e-04\n",
      "  1.37502961e-04 6.70249032e-03]\n",
      " [1.37502961e-04 1.46096329e-04 6.87510680e-05 8.59394538e-05\n",
      "  8.59394538e-05 2.49725545e-02]\n",
      " [8.59394538e-05 1.89066468e-04 5.15635073e-05 1.89066468e-04\n",
      "  1.89066468e-04 4.99335529e-02]\n",
      " [1.67581399e-04 3.26568604e-04 1.63284715e-04 2.83599290e-04\n",
      "  2.83599290e-04 7.04917086e-02]\n",
      " [2.83599290e-04 3.26568604e-04 2.83599290e-04 3.09381044e-04\n",
      "  3.09381044e-04 1.79580517e-02]\n",
      " [3.26568604e-04 3.26568604e-04 1.80472275e-04 2.23441590e-04\n",
      "  2.23441590e-04 4.78765817e-02]\n",
      " [2.32035783e-04 2.40629976e-04 1.80472275e-04 1.89066468e-04\n",
      "  1.89066468e-04 6.74871439e-03]\n",
      " [2.23441590e-04 2.75005097e-04 1.97659836e-04 2.40629976e-04\n",
      "  2.40629976e-04 1.10244410e-02]\n",
      " [2.57817536e-04 2.57817536e-04 2.23441590e-04 2.23441590e-04\n",
      "  2.23441590e-04 1.98763506e-03]\n",
      " [2.40629976e-04 2.40629976e-04 2.06254029e-04 2.14848222e-04\n",
      "  2.14848222e-04 4.10238632e-03]\n",
      " [2.36332467e-04 2.36332467e-04 1.50393838e-04 1.58987206e-04\n",
      "  1.58987206e-04 4.06309586e-02]\n",
      " [1.71878083e-04 1.84768959e-04 1.54690522e-04 1.63284715e-04\n",
      "  1.63284715e-04 1.90443173e-02]\n",
      " [1.63284715e-04 1.80472275e-04 1.54690522e-04 1.63284715e-04\n",
      "  1.63284715e-04 4.96908765e-03]\n",
      " [1.80472275e-04 1.97659836e-04 1.54690522e-04 1.76175591e-04\n",
      "  1.76175591e-04 2.79308950e-02]\n",
      " [1.89066468e-04 1.89066468e-04 1.37502961e-04 1.54690522e-04\n",
      "  1.54690522e-04 5.39666031e-03]\n",
      " [1.58987206e-04 1.76175591e-04 1.37502961e-04 1.63284715e-04\n",
      "  1.63284715e-04 2.54232392e-03]\n",
      " [1.76175591e-04 1.76175591e-04 1.46096329e-04 1.63284715e-04\n",
      "  1.63284715e-04 1.55890680e-02]\n",
      " [1.71878083e-04 1.71878083e-04 1.58987206e-04 1.63284715e-04\n",
      "  1.63284715e-04 2.60241521e-02]] -> [0.0001461]\n"
     ]
    }
   ],
   "source": [
    "dataX = [] # 입력으로 사용될 Sequence Data\n",
    "dataY = [] # 출력(타켓)으로 사용\n",
    " \n",
    "for i in range(0, len(y) - seq_length):\n",
    "    _x = x[i : i+seq_length] # x[0:30] => 0~29개 총 30개\n",
    "    _y = y[i + seq_length] # 다음 나타날 주가(정답) y[30] => 31번째 값임!!!\n",
    "    x[30+i][3] = _y\n",
    "    if i is 0:\n",
    "        print(_x, \"->\", _y) # 첫번째 행만 출력해 봄\n",
    "        \n",
    "    dataX.append(_x) # dataX 리스트에 추가\n",
    "    dataY.append(_y) # dataY 리스트에 추가"
   ]
  },
  {
   "cell_type": "code",
   "execution_count": 91,
   "metadata": {},
   "outputs": [],
   "source": [
    "# 학습용/테스트용 데이터 생성\n",
    "# 전체 70%를 학습용 데이터로 사용\n",
    "train_size = int(len(dataY) * 0.7)\n",
    "# 나머지(30%)를 테스트용 데이터로 사용\n",
    "test_size = len(dataY) - train_size\n",
    " \n",
    "# 데이터를 잘라 학습용 데이터 생성\n",
    "trainX = np.array(dataX[0:train_size])\n",
    "trainY = np.array(dataY[0:train_size])\n",
    " \n",
    "# 데이터를 잘라 테스트용 데이터 생성\n",
    "testX = np.array(dataX[train_size:len(dataX)])\n",
    "testY = np.array(dataY[train_size:len(dataY)])"
   ]
  },
  {
   "cell_type": "code",
   "execution_count": 92,
   "metadata": {},
   "outputs": [
    {
     "name": "stdout",
     "output_type": "stream",
     "text": [
      "X:  Tensor(\"Placeholder:0\", shape=(?, 30, 6), dtype=float32)\n",
      "Y:  Tensor(\"Placeholder_1:0\", shape=(?, 1), dtype=float32)\n"
     ]
    }
   ],
   "source": [
    "# 텐서플로우 플레이스홀더 생성\n",
    "# 입력 X, 출력 Y를 생성한다\n",
    "X = tf.placeholder(tf.float32, [None, seq_length, input_data_column_cnt])\n",
    "print(\"X: \", X)\n",
    "Y = tf.placeholder(tf.float32, [None, 1])\n",
    "print(\"Y: \", Y)"
   ]
  },
  {
   "cell_type": "code",
   "execution_count": 93,
   "metadata": {},
   "outputs": [
    {
     "name": "stdout",
     "output_type": "stream",
     "text": [
      "targets:  Tensor(\"Placeholder_2:0\", shape=(?, 1), dtype=float32)\n",
      "predictions:  Tensor(\"Placeholder_3:0\", shape=(?, 1), dtype=float32)\n"
     ]
    }
   ],
   "source": [
    "# 검증용 측정지표를 산출하기 위한 targets, predictions를 생성한다\n",
    "targets = tf.placeholder(tf.float32, [None, 1])\n",
    "print(\"targets: \", targets)\n",
    " \n",
    "predictions = tf.placeholder(tf.float32, [None, 1])\n",
    "print(\"predictions: \", predictions)"
   ]
  },
  {
   "cell_type": "code",
   "execution_count": 94,
   "metadata": {},
   "outputs": [],
   "source": [
    "# 모델(LSTM 네트워크) 생성\n",
    "def lstm_cell():\n",
    "    # LSTM셀을 생성\n",
    "    # num_units: 각 Cell 출력 크기\n",
    "    # forget_bias:  to the biases of the forget gate \n",
    "    #              (default: 1)  in order to reduce the scale of forgetting in the beginning of the training.\n",
    "    # state_is_tuple: True ==> accepted and returned states are 2-tuples of the c_state and m_state.\n",
    "    # state_is_tuple: False ==> they are concatenated along the column axis.\n",
    "    cell = tf.contrib.rnn.BasicLSTMCell(num_units=rnn_cell_hidden_dim, \n",
    "                                        forget_bias=forget_bias, state_is_tuple=True, activation=tf.nn.softsign)\n",
    "    if keep_prob < 1.0:\n",
    "        cell = tf.contrib.rnn.DropoutWrapper(cell, output_keep_prob=keep_prob)\n",
    "    return cell"
   ]
  },
  {
   "cell_type": "code",
   "execution_count": 95,
   "metadata": {},
   "outputs": [],
   "source": [
    "# num_stacked_layers개의 층으로 쌓인 Stacked RNNs 생성\n",
    "stackedRNNs = [lstm_cell() for _ in range(num_stacked_layers)]\n",
    "multi_cells = tf.contrib.rnn.MultiRNNCell(stackedRNNs, state_is_tuple=True) if num_stacked_layers > 1 else lstm_cell()"
   ]
  },
  {
   "cell_type": "code",
   "execution_count": 96,
   "metadata": {},
   "outputs": [
    {
     "name": "stdout",
     "output_type": "stream",
     "text": [
      "hypothesis:  Tensor(\"rnn/transpose:0\", shape=(?, 30, 20), dtype=float32)\n"
     ]
    }
   ],
   "source": [
    "# RNN Cell(여기서는 LSTM셀임)들을 연결\n",
    "hypothesis, _states = tf.nn.dynamic_rnn(multi_cells, X, dtype=tf.float32)\n",
    "print(\"hypothesis: \", hypothesis)"
   ]
  },
  {
   "cell_type": "code",
   "execution_count": 97,
   "metadata": {},
   "outputs": [],
   "source": [
    "# [:, -1]를 잘 살펴보자. LSTM RNN의 마지막 (hidden)출력만을 사용했다.\n",
    "# 과거 여러 거래일의 주가를 이용해서 다음날의 주가 1개를 예측하기때문에 MANY-TO-ONE형태이다\n",
    "hypothesis = tf.contrib.layers.fully_connected(hypothesis[:, -1], output_data_column_cnt, activation_fn=tf.identity)"
   ]
  },
  {
   "cell_type": "code",
   "execution_count": 98,
   "metadata": {},
   "outputs": [
    {
     "name": "stdout",
     "output_type": "stream",
     "text": [
      "학습을 시작합니다...\n",
      "epoch: 100, train_error(A): 0.0030546742491424084, test_error(B): 0.10442794859409332, B-A: 0.10137327760457993\n",
      "epoch: 200, train_error(A): 0.0027807129081338644, test_error(B): 0.07886586338281631, B-A: 0.0760851502418518\n",
      "epoch: 300, train_error(A): 0.002683245809748769, test_error(B): 0.0637020617723465, B-A: 0.061018817126750946\n",
      "epoch: 400, train_error(A): 0.0026069411542266607, test_error(B): 0.05039776489138603, B-A: 0.04779082536697388\n",
      "epoch: 500, train_error(A): 0.0025437921285629272, test_error(B): 0.038603223860263824, B-A: 0.0360594317317009\n",
      "epoch: 600, train_error(A): 0.002488151891157031, test_error(B): 0.028887400403618813, B-A: 0.026399249210953712\n",
      "epoch: 700, train_error(A): 0.0024370732717216015, test_error(B): 0.021430041640996933, B-A: 0.018992967903614044\n",
      "epoch: 800, train_error(A): 0.002389605389907956, test_error(B): 0.01616385020315647, B-A: 0.013774245046079159\n",
      "epoch: 900, train_error(A): 0.0023459417279809713, test_error(B): 0.012784157879650593, B-A: 0.010438215918838978\n",
      "epoch: 1000, train_error(A): 0.002306561917066574, test_error(B): 0.010844574309885502, B-A: 0.008538012392818928\n",
      "elapsed_time: 0:06:28.807238\n",
      "elapsed_time per epoch: 0:00:00.388807\n",
      "input_data_column_cnt: 6,output_data_column_cnt: 1,seq_length: 30,rnn_cell_hidden_dim: 20,forget_bias: 1.0,num_stacked_layers: 1,keep_prob: 1.0,epoch_num: 1000,learning_rate: 0.01,train_error: 0.002306562,test_error: 0.010844574,min_test_error: 0.010844574\n"
     ]
    },
    {
     "data": {
      "image/png": "[encoded data removed]",
      "text/plain": [
       "<Figure size 432x288 with 1 Axes>"
      ]
     },
     "metadata": {},
     "output_type": "display_data"
    },
    {
     "data": {
      "image/png": "[encoded data removed]",
      "text/plain": [
       "<Figure size 432x288 with 1 Axes>"
      ]
     },
     "metadata": {},
     "output_type": "display_data"
    },
    {
     "name": "stdout",
     "output_type": "stream",
     "text": [
      "recent_data.shape: (1, 30, 6)\n",
      "recent_data: [[[0.87189973 0.91103845 0.86563789 0.90721862 0.90721862 0.15482945]\n",
      "  [0.90231807 0.92523704 0.90112184 0.9153863  0.9153863  0.05899251]\n",
      "  [0.91386004 0.9151306  0.90735891 0.910791   0.910791   0.02879182]\n",
      "  [0.91089    0.91383526 0.90374533 0.909471   0.909471   0.03147378]\n",
      "  [0.90462816 0.90803538 0.89560243 0.90166628 0.90166628 0.0307939 ]\n",
      "  [0.89913352 0.91689614 0.89696373 0.91600506 0.91600506 0.03143526]\n",
      "  [0.91398381 0.92739858 0.9136703  0.92347976 0.92347976 0.0278683 ]\n",
      "  [0.92684578 0.93168037 0.92087268 0.92555055 0.92555055 0.02120337]\n",
      "  [0.92526172 0.935756   0.92220094 0.93356143 0.93356143 0.02016814]\n",
      "  [0.92785228 0.93087187 0.91944541 0.93046762 0.93046762 0.03125421]\n",
      "  [0.92796779 0.93262916 0.92628483 0.92734903 0.92734903 0.01630073]\n",
      "  [0.92541026 0.93935306 0.92486573 0.93050065 0.93050065 0.02341249]\n",
      "  [0.93127612 0.93778551 0.92614454 0.93682846 0.93682846 0.0255311 ]\n",
      "  [0.92871859 0.93262916 0.92428    0.92845453 0.92845453 0.0331417 ]\n",
      "  [0.93131741 0.93791754 0.93122667 0.93719978 0.93719978 0.01662237]\n",
      "  [0.93801653 0.93844556 0.92772861 0.93108638 0.93108638 0.01854933]\n",
      "  [0.93099564 0.93400697 0.92503905 0.92814112 0.92814112 0.01614665]\n",
      "  [0.93354491 0.93943554 0.92970031 0.93901477 0.93901477 0.01918492]\n",
      "  [0.94026055 0.95615863 0.94026055 0.95276783 0.95276783 0.02954585]\n",
      "  [0.95651333 0.97807927 0.95651333 0.97738628 0.97738628 0.02928295]\n",
      "  [0.99113108 1.         0.98163513 0.98549615 0.98549615 0.06025308]\n",
      "  [0.99296259 0.99334206 0.97946534 0.98365638 0.98365638 0.03921535]\n",
      "  [0.98464646 0.98464646 0.94371732 0.95698365 0.95698365 0.08445812]\n",
      "  [0.96179346 0.97125637 0.95593586 0.96975488 0.96975488 0.03873192]\n",
      "  [0.96587735 0.97214745 0.94933573 0.95787463 0.95787463 0.03485969]\n",
      "  [0.96736231 0.96847607 0.92953535 0.93444415 0.93444415 0.05243254]\n",
      "  [0.92974986 0.95533362 0.92684578 0.94073077 0.94073077 0.03459679]\n",
      "  [0.93777725 0.95254506 0.93620144 0.94962447 0.94962447 0.02278558]\n",
      "  [0.95312253 0.95856761 0.94851072 0.95576264 0.95576264 0.01946804]\n",
      "  [0.96451605 0.96645482 0.95354329 0.95758589 0.95758589 0.02142033]]]\n",
      "test_predict [0.9262231]\n",
      "Tomorrow's stock price [1123.9852]\n"
     ]
    }
   ],
   "source": [
    "# 손실함수로 평균제곱오차를 사용한다\n",
    "loss = tf.reduce_sum(tf.square(hypothesis - Y))\n",
    "# 최적화함수로 AdamOptimizer를 사용한다\n",
    "optimizer = tf.train.AdamOptimizer(learning_rate)\n",
    "# optimizer = tf.train.RMSPropOptimizer(learning_rate) # LSTM과 궁합 별로임\n",
    " \n",
    "train = optimizer.minimize(loss)\n",
    " \n",
    "# RMSE(Root Mean Square Error)\n",
    "# 제곱오차의 평균을 구하고 다시 제곱근을 구하면 평균 오차가 나온다\n",
    "# rmse = tf.sqrt(tf.reduce_mean(tf.square(targets-predictions))) # 아래 코드와 같다\n",
    "rmse = tf.sqrt(tf.reduce_mean(tf.squared_difference(targets, predictions)))\n",
    " \n",
    " \n",
    "train_error_summary = [] # 학습용 데이터의 오류를 중간 중간 기록한다\n",
    "test_error_summary = []  # 테스트용 데이터의 오류를 중간 중간 기록한다\n",
    "test_predict = ''        # 테스트용데이터로 예측한 결과\n",
    " \n",
    "sess = tf.Session()\n",
    "sess.run(tf.global_variables_initializer())\n",
    " \n",
    "# 학습한다\n",
    "start_time = datetime.datetime.now() # 시작시간을 기록한다\n",
    "print('학습을 시작합니다...')\n",
    "for epoch in range(epoch_num):\n",
    "    _, _loss = sess.run([train, loss], feed_dict={X: trainX, Y: trainY})\n",
    "    if ((epoch+1) % 100 == 0) or (epoch == epoch_num-1): # 100번째마다 또는 마지막 epoch인 경우\n",
    "        # 학습용데이터로 rmse오차를 구한다\n",
    "        train_predict = sess.run(hypothesis, feed_dict={X: trainX})\n",
    "        train_error = sess.run(rmse, feed_dict={targets: trainY, predictions: train_predict})\n",
    "        train_error_summary.append(train_error)\n",
    " \n",
    "        # 테스트용데이터로 rmse오차를 구한다\n",
    "        test_predict = sess.run(hypothesis, feed_dict={X: testX})\n",
    "        test_error = sess.run(rmse, feed_dict={targets: testY, predictions: test_predict})\n",
    "        test_error_summary.append(test_error)\n",
    "        \n",
    "        # 현재 오류를 출력한다\n",
    "        print(\"epoch: {}, train_error(A): {}, test_error(B): {}, B-A: {}\".format(epoch+1, train_error, test_error, test_error-train_error))\n",
    "        \n",
    "end_time = datetime.datetime.now() # 종료시간을 기록한다\n",
    "elapsed_time = end_time - start_time # 경과시간을 구한다\n",
    "print('elapsed_time:',elapsed_time)\n",
    "print('elapsed_time per epoch:',elapsed_time/epoch_num)\n",
    " \n",
    " \n",
    "# 하이퍼파라미터 출력\n",
    "print('input_data_column_cnt:', input_data_column_cnt, end='')\n",
    "print(',output_data_column_cnt:', output_data_column_cnt, end='')\n",
    " \n",
    "print(',seq_length:', seq_length, end='')\n",
    "print(',rnn_cell_hidden_dim:', rnn_cell_hidden_dim, end='')\n",
    "print(',forget_bias:', forget_bias, end='')\n",
    "print(',num_stacked_layers:', num_stacked_layers, end='')\n",
    "print(',keep_prob:', keep_prob, end='')\n",
    " \n",
    "print(',epoch_num:', epoch_num, end='')\n",
    "print(',learning_rate:', learning_rate, end='')\n",
    " \n",
    "print(',train_error:', train_error_summary[-1], end='')\n",
    "print(',test_error:', test_error_summary[-1], end='')\n",
    "print(',min_test_error:', np.min(test_error_summary))\n",
    " \n",
    "# 결과 그래프 출력\n",
    "plt.figure(1)\n",
    "plt.plot(train_error_summary, 'gold')\n",
    "plt.plot(test_error_summary, 'b')\n",
    "plt.xlabel('Epoch(x100)')\n",
    "plt.ylabel('Root Mean Square Error')\n",
    " \n",
    "plt.figure(2)\n",
    "plt.plot(testY, 'r')\n",
    "plt.plot(test_predict, 'b')\n",
    "plt.xlabel('Time Period')\n",
    "plt.ylabel('Stock Price')\n",
    "plt.show()\n",
    " \n",
    " \n",
    "# sequence length만큼의 가장 최근 데이터를 슬라이싱한다\n",
    "recent_data = np.array([x[len(x)-seq_length : ]])\n",
    "print(\"recent_data.shape:\", recent_data.shape)\n",
    "print(\"recent_data:\", recent_data)\n",
    " \n",
    "# 내일 종가를 예측해본다\n",
    "test_predict = sess.run(hypothesis, feed_dict={X: recent_data})\n",
    " \n",
    "print(\"test_predict\", test_predict[0])\n",
    "test_predict = reverse_min_max_scaling(price,test_predict) # 금액데이터 역정규화한다\n",
    "print(\"Tomorrow's stock price\", test_predict[0]) # 예측한 주가를 출력한다"
   ]
  },
  {
   "cell_type": "code",
   "execution_count": null,
   "metadata": {},
   "outputs": [],
   "source": []
  },
  {
   "cell_type": "code",
   "execution_count": null,
   "metadata": {},
   "outputs": [],
   "source": []
  },
  {
   "cell_type": "markdown",
   "metadata": {},
   "source": [
    "# --------------------------------------------------------------"
   ]
  },
  {
   "cell_type": "markdown",
   "metadata": {},
   "source": [
    "# LSTM 모델"
   ]
  },
  {
   "cell_type": "code",
   "execution_count": 99,
   "metadata": {},
   "outputs": [
    {
     "name": "stderr",
     "output_type": "stream",
     "text": [
      "Using TensorFlow backend.\n"
     ]
    }
   ],
   "source": [
    "## import pandas as pd\n",
    "import pandas_datareader.data as web\n",
    "import tensorflow\n",
    "import matplotlib.pyplot as plt\n",
    "import datetime as dt\n",
    "import numpy as np\n",
    "import logging\n",
    "import math\n",
    "import os\n",
    "from sklearn.preprocessing import MinMaxScaler\n",
    "import keras\n",
    "from keras.models import Sequential\n",
    "from keras.layers import Dense, LSTM, Activation\n",
    "from keras import optimizers\n",
    "from sklearn.metrics import mean_squared_error\n",
    "from keras.models import load_model\n",
    "from keras.utils import np_utils"
   ]
  },
  {
   "cell_type": "code",
   "execution_count": 100,
   "metadata": {},
   "outputs": [],
   "source": [
    "### 데이터 전처리 / Data Preprocessing\n",
    "\n",
    "np.random.seed(123)\n",
    "# finance_indicator = test.loc[:,\"자산(백만원)\":].astype(np.float) # 재부 관련 지표\n",
    "# month_indicator = test.loc[:,\"month\"].astype(np.float) # 월 관련 지표\n",
    "\n",
    "encoding = 'euc-kr' # 문자 인코딩\n",
    "names = ['Date','Open','High','Low','Close','Adj Close','Volume']\n",
    "test = pd.read_csv('./data/AMZN.csv', names=names, encoding=encoding, header=0) #판다스이용 csv파일 로딩\n",
    "test = test.loc[:,'Open':'Volume']\n",
    "test = test[['Open', 'High', 'Low', 'Adj Close', 'Volume', 'Close']]\n",
    "\n",
    "indicator = test.values.astype(np.float)\n",
    "scaler = MinMaxScaler(feature_range=(0, 1)) # 0~1 값으로 스케일링\n",
    "scaled_test = scaler.fit_transform(indicator) # 가격 관련 지표에 스케일링\n",
    "#month_indicator = np_utils.to_categorical(month_indicator)\n",
    "\n",
    "#scaler_etc = MinMaxScaler(feature_range=(-1, 1)) # 0~1 값으로 스케일링\n",
    "#scaled_etc_indicator = scaler_etc.fit_transform(etc_indicator) # 추세 또는 거래량 활용 지표에 스케일링"
   ]
  },
  {
   "cell_type": "code",
   "execution_count": 101,
   "metadata": {},
   "outputs": [],
   "source": [
    "x = scaled_test\n",
    "y = x[:, [5]] # 타켓은 1년뒤 종가이다 / target is 'Close' price\n",
    "\n",
    "\n",
    "# dataX와 dataY 생성 / Creating dataset 'dataX' and 'dataY'\n",
    "seq_length = 30 # 4분기 데이터를 이용해 1년뒤 예상\n",
    "\n",
    "dataX = [] # 입력으로 사용될 Sequence Data / Input - Sequence Data\n",
    "dataY = [] # 출력(타켓)으로 사용 / Output(target)\n",
    "for i in range(0, int(len(y) - seq_length)):\n",
    "    _x = x[i : i + seq_length]\n",
    "    _y = y[i + seq_length] # 다음 나타날 주가(정답) / after 5 days later (in _x), 'Close' price is the correct answer.\n",
    "#     x[i+seq_length][5] = _y # 예측된 값을 반영하는 코드\n",
    "    dataX.append(_x) # dataX 리스트에 추가 / add to dataX's list\n",
    "    dataY.append(_y) # dataY 리스트에 추가 / add to dataY's list\n",
    "#     print(_x[0:4])\n",
    "#     print('--------------')\n",
    "#     print(_y[0])\n",
    "#     print('--------------')"
   ]
  },
  {
   "cell_type": "code",
   "execution_count": 102,
   "metadata": {},
   "outputs": [],
   "source": [
    "# 학습용/테스트용 데이터 생성\n",
    "train_data_size = 0.70\n",
    "train_size = int(len(dataY) * train_data_size)\n",
    "test_size = len(dataY) - train_size"
   ]
  },
  {
   "cell_type": "code",
   "execution_count": 103,
   "metadata": {},
   "outputs": [],
   "source": [
    "# 데이터를 잘라 학습용 데이터 생성\n",
    "trainX = np.array(dataX[0:train_size])\n",
    "trainY = np.array(dataY[0:train_size])"
   ]
  },
  {
   "cell_type": "code",
   "execution_count": 104,
   "metadata": {},
   "outputs": [
    {
     "name": "stdout",
     "output_type": "stream",
     "text": [
      "==================================================\n",
      "(30, 6)\n",
      "(1,)\n",
      "(3603, 30, 6)\n",
      "(3603, 1)\n",
      "==================================================\n"
     ]
    }
   ],
   "source": [
    "# 데이터를 잘라 테스트용 데이터 생성\n",
    "testX = np.array(dataX[train_size:len(dataX)])\n",
    "testY = np.array(dataY[train_size:len(dataY)])\n",
    "\n",
    "print(\"=\"*50)\n",
    "print(_x.shape)\n",
    "print(_y.shape)\n",
    "print(trainX.shape)\n",
    "print(trainY.shape)\n",
    "print(\"=\"*50)"
   ]
  },
  {
   "cell_type": "code",
   "execution_count": 105,
   "metadata": {},
   "outputs": [
    {
     "name": "stderr",
     "output_type": "stream",
     "text": [
      "C:\\Python\\Anaconda3-52\\lib\\site-packages\\ipykernel_launcher.py:6: UserWarning: The `input_dim` and `input_length` arguments in recurrent layers are deprecated. Use `input_shape` instead.\n",
      "  \n",
      "C:\\Python\\Anaconda3-52\\lib\\site-packages\\ipykernel_launcher.py:6: UserWarning: Update your `LSTM` call to the Keras 2 API: `LSTM(64, return_sequences=True, stateful=False, input_shape=(30, 6))`\n",
      "  \n"
     ]
    },
    {
     "name": "stdout",
     "output_type": "stream",
     "text": [
      "_________________________________________________________________\n",
      "Layer (type)                 Output Shape              Param #   \n",
      "=================================================================\n",
      "lstm_1 (LSTM)                (None, 30, 64)            18176     \n",
      "_________________________________________________________________\n",
      "lstm_2 (LSTM)                (None, 64)                33024     \n",
      "_________________________________________________________________\n",
      "dense_1 (Dense)              (None, 1)                 65        \n",
      "_________________________________________________________________\n",
      "activation_1 (Activation)    (None, 1)                 0         \n",
      "=================================================================\n",
      "Total params: 51,265\n",
      "Trainable params: 51,265\n",
      "Non-trainable params: 0\n",
      "_________________________________________________________________\n",
      "==================================================\n",
      "Train on 3603 samples, validate on 1545 samples\n",
      "Epoch 1/30\n",
      "3603/3603 [==============================] - 19s 5ms/step - loss: 4.6652e-05 - val_loss: 2.8386e-04\n",
      "Epoch 2/30\n",
      "3603/3603 [==============================] - 18s 5ms/step - loss: 1.7233e-05 - val_loss: 3.7004e-04\n",
      "Epoch 3/30\n",
      "3603/3603 [==============================] - 20s 5ms/step - loss: 1.4881e-05 - val_loss: 3.4133e-04\n",
      "Epoch 4/30\n",
      "3603/3603 [==============================] - 17s 5ms/step - loss: 1.1397e-05 - val_loss: 0.0012\n",
      "Epoch 5/30\n",
      "3603/3603 [==============================] - 17s 5ms/step - loss: 1.3273e-05 - val_loss: 8.1786e-04\n",
      "Epoch 6/30\n",
      "3603/3603 [==============================] - 18s 5ms/step - loss: 9.6529e-06 - val_loss: 1.4237e-04\n",
      "Epoch 7/30\n",
      "3603/3603 [==============================] - 18s 5ms/step - loss: 9.7644e-06 - val_loss: 2.0456e-04\n",
      "Epoch 8/30\n",
      "3603/3603 [==============================] - 22s 6ms/step - loss: 9.2713e-06 - val_loss: 1.4205e-04\n",
      "Epoch 9/30\n",
      "3603/3603 [==============================] - 17s 5ms/step - loss: 8.1448e-06 - val_loss: 3.5459e-04\n",
      "Epoch 10/30\n",
      "3603/3603 [==============================] - 22s 6ms/step - loss: 8.9071e-06 - val_loss: 9.6721e-05\n",
      "Epoch 11/30\n",
      "3603/3603 [==============================] - 17s 5ms/step - loss: 7.3864e-06 - val_loss: 1.1477e-04\n",
      "Epoch 12/30\n",
      "3603/3603 [==============================] - 17s 5ms/step - loss: 6.8894e-06 - val_loss: 1.2271e-04\n",
      "Epoch 13/30\n",
      "3603/3603 [==============================] - 16s 5ms/step - loss: 6.8496e-06 - val_loss: 3.4412e-04\n",
      "Epoch 14/30\n",
      "3603/3603 [==============================] - 16s 5ms/step - loss: 7.0156e-06 - val_loss: 1.2049e-04\n",
      "Epoch 15/30\n",
      "3603/3603 [==============================] - 16s 5ms/step - loss: 5.7965e-06 - val_loss: 2.2619e-04\n",
      "Epoch 16/30\n",
      "3603/3603 [==============================] - 16s 5ms/step - loss: 7.7600e-06 - val_loss: 1.1062e-04\n",
      "Epoch 17/30\n",
      "3603/3603 [==============================] - 18s 5ms/step - loss: 5.5943e-06 - val_loss: 1.1690e-04\n",
      "Epoch 18/30\n",
      "3603/3603 [==============================] - 17s 5ms/step - loss: 5.4744e-06 - val_loss: 3.0910e-04\n",
      "Epoch 19/30\n",
      "3603/3603 [==============================] - 18s 5ms/step - loss: 6.2551e-06 - val_loss: 1.8476e-04\n",
      "Epoch 20/30\n",
      "3603/3603 [==============================] - 17s 5ms/step - loss: 5.6977e-06 - val_loss: 1.3642e-04\n",
      "Epoch 21/30\n",
      "3603/3603 [==============================] - 17s 5ms/step - loss: 5.2484e-06 - val_loss: 1.7979e-04\n",
      "Epoch 22/30\n",
      "3603/3603 [==============================] - 18s 5ms/step - loss: 6.0896e-06 - val_loss: 1.8070e-04\n",
      "Epoch 23/30\n",
      "3603/3603 [==============================] - 18s 5ms/step - loss: 5.0905e-06 - val_loss: 5.2164e-04\n",
      "Epoch 24/30\n",
      "3603/3603 [==============================] - 18s 5ms/step - loss: 5.6661e-06 - val_loss: 2.5993e-04\n",
      "Epoch 25/30\n",
      "3603/3603 [==============================] - 18s 5ms/step - loss: 5.2522e-06 - val_loss: 4.2087e-04\n",
      "Epoch 26/30\n",
      "3603/3603 [==============================] - 19s 5ms/step - loss: 5.6935e-06 - val_loss: 2.5524e-04\n",
      "Epoch 27/30\n",
      "3603/3603 [==============================] - 18s 5ms/step - loss: 5.7454e-06 - val_loss: 5.4345e-04\n",
      "Epoch 28/30\n",
      "3603/3603 [==============================] - 17s 5ms/step - loss: 5.3422e-06 - val_loss: 1.3840e-04\n",
      "Epoch 29/30\n",
      "3603/3603 [==============================] - 17s 5ms/step - loss: 5.8134e-06 - val_loss: 7.5510e-04\n",
      "Epoch 30/30\n",
      "3603/3603 [==============================] - 17s 5ms/step - loss: 5.3995e-06 - val_loss: 2.5247e-04\n"
     ]
    },
    {
     "name": "stderr",
     "output_type": "stream",
     "text": [
      "No handles with labels found to put in legend.\n"
     ]
    },
    {
     "name": "stdout",
     "output_type": "stream",
     "text": [
      "[4.66519481459791e-05, 1.723305669583382e-05, 1.488050737416029e-05, 1.1396814535896618e-05, 1.3272662262385815e-05, 9.652916021998055e-06, 9.764423747252797e-06, 9.271349367896207e-06, 8.144767523348046e-06, 8.90710079764849e-06, 7.386445307368011e-06, 6.8894312759741265e-06, 6.849572683432271e-06, 7.015575162316607e-06, 5.796483421387878e-06, 7.760035520525654e-06, 5.5943358073314575e-06, 5.474412743505231e-06, 6.255107927078787e-06, 5.6977292017525244e-06, 5.248360593460748e-06, 6.089624092935877e-06, 5.0904660266001135e-06, 5.66605783402212e-06, 5.252191050852303e-06, 5.6934993000559095e-06, 5.745381241717301e-06, 5.342201422660231e-06, 5.813386414718855e-06, 5.399519193051679e-06]\n",
      "[0.0002838619589953901, 0.00037004085467675003, 0.00034133075161992075, 0.0011628924878042879, 0.0008178577724181894, 0.00014236843949558687, 0.00020456241638744198, 0.00014204963721991607, 0.0003545927140241245, 9.672136660616532e-05, 0.00011477193212249698, 0.00012270960745026203, 0.00034411563119294126, 0.00012049395756907708, 0.00022619490058475056, 0.00011062160563414502, 0.00011690147746034623, 0.000309100321195917, 0.0001847599756599816, 0.00013641613203908845, 0.00017978507013437467, 0.00018069918938418158, 0.0005216375256901142, 0.00025993423716064206, 0.00042086834506500264, 0.0002552371661751402, 0.0005434514425454436, 0.0001384048899120469, 0.0007551013046118708, 0.0002524665487932486]\n"
     ]
    },
    {
     "data": {
      "image/png": "[encoded data removed]",
      "text/plain": [
       "<Figure size 432x288 with 2 Axes>"
      ]
     },
     "metadata": {},
     "output_type": "display_data"
    },
    {
     "name": "stdout",
     "output_type": "stream",
     "text": [
      "1545/1545 [==============================] - 3s 2ms/step\n"
     ]
    },
    {
     "data": {
      "image/png": "[encoded data removed]",
      "text/plain": [
       "<Figure size 432x288 with 1 Axes>"
      ]
     },
     "metadata": {},
     "output_type": "display_data"
    }
   ],
   "source": [
    "## LSTM 모델\n",
    "\n",
    "input_columns = 6\n",
    "\n",
    "model = Sequential()\n",
    "model.add(LSTM(64, input_dim=input_columns, input_length=seq_length, return_sequences=True, stateful=False))\n",
    "model.add(LSTM(64, return_sequences=False, stateful=False))\n",
    "model.add(Dense(1))\n",
    "model.add(Activation('linear'))\n",
    "# , dropout=0.2\n",
    "\n",
    "\n",
    "# 모델 학습 설정 및 진행\n",
    "keras.optimizers.Adam(lr=0.01, beta_1=0.9, beta_2=0.999, epsilon=None, decay=0.0, amsgrad=False)\n",
    "model.compile(loss='mean_squared_error', optimizer='adam')\n",
    "model.summary()\n",
    "print(\"=\"*50)\n",
    "hist = model.fit(trainX, trainY, epochs=30, batch_size=10, verbose=1, validation_data=(testX, testY))\n",
    "\n",
    "\n",
    "# 학습 과정 살펴보기\n",
    "print(hist.history['loss'])\n",
    "print(hist.history['val_loss'])\n",
    "fig, loss_ax = plt.subplots()\n",
    "acc_ax = loss_ax.twinx()\n",
    "loss_ax.plot(hist.history['loss'], 'y', label='train loss')\n",
    "loss_ax.plot(hist.history['val_loss'], 'r', label='val loss')\n",
    "loss_ax.set_xlabel('epoch')\n",
    "loss_ax.set_ylabel('loss')\n",
    "loss_ax.legend(loc='upper left')\n",
    "acc_ax.legend(loc='lower left')\n",
    "plt.show()\n",
    "\n",
    "\n",
    "\n",
    "# 예측\n",
    "y_pred = model.predict(testX, batch_size=5, verbose=1) # , steps=5\n",
    "plt.plot(testY, color = 'blue', label = 'Actual Stock Price')\n",
    "plt.plot(y_pred, color = 'red', label = 'Predicted Stock Price')\n",
    "plt.title('Stock Price Prediction')\n",
    "plt.xlabel('Time')\n",
    "plt.ylabel('Stock Price')\n",
    "plt.legend()\n",
    "plt.show()\n",
    "\n",
    "\n",
    "# 모델 저장\n",
    "model.save('./save/모든변수예측모델_01.h5')\n",
    "\n",
    "# cf. 모델 로드하는거!\n",
    "#model = load_model('./save/lstm_stock_prediction_01.h5')"
   ]
  },
  {
   "cell_type": "code",
   "execution_count": null,
   "metadata": {},
   "outputs": [],
   "source": []
  },
  {
   "cell_type": "code",
   "execution_count": null,
   "metadata": {},
   "outputs": [],
   "source": []
  },
  {
   "cell_type": "code",
   "execution_count": null,
   "metadata": {},
   "outputs": [],
   "source": []
  },
  {
   "cell_type": "markdown",
   "metadata": {},
   "source": [
    "# For 문으로 모든 변수 예측"
   ]
  },
  {
   "cell_type": "code",
   "execution_count": 64,
   "metadata": {},
   "outputs": [],
   "source": [
    "## import pandas as pd\n",
    "import pandas_datareader.data as web\n",
    "import tensorflow\n",
    "import matplotlib.pyplot as plt\n",
    "import datetime as dt\n",
    "import numpy as np\n",
    "import logging\n",
    "import math\n",
    "import os\n",
    "from sklearn.preprocessing import MinMaxScaler\n",
    "import keras\n",
    "from keras.models import Sequential\n",
    "from keras.layers import Dense, LSTM, Activation\n",
    "from keras import optimizers\n",
    "from sklearn.metrics import mean_squared_error\n",
    "from keras.models import load_model\n",
    "from keras.utils import np_utils"
   ]
  },
  {
   "cell_type": "code",
   "execution_count": 65,
   "metadata": {},
   "outputs": [],
   "source": [
    "### 데이터 전처리 / Data Preprocessing\n",
    "\n",
    "np.random.seed(123)\n",
    "# finance_indicator = test.loc[:,\"자산(백만원)\":].astype(np.float) # 재부 관련 지표\n",
    "# month_indicator = test.loc[:,\"month\"].astype(np.float) # 월 관련 지표\n",
    "\n",
    "encoding = 'euc-kr' # 문자 인코딩\n",
    "names = ['Date','Open','High','Low','Close','Adj Close','Volume']\n",
    "test = pd.read_csv('./data/AMZN.csv', names=names, encoding=encoding, header=0) #판다스이용 csv파일 로딩\n",
    "test = test.loc[:,'Open':'Volume']\n",
    "test = test[['Open', 'High', 'Low', 'Adj Close', 'Volume', 'Close']]\n",
    "\n",
    "indicator = test.values.astype(np.float)\n",
    "scaler = MinMaxScaler(feature_range=(0, 1)) # 0~1 값으로 스케일링\n",
    "scaled_test = scaler.fit_transform(indicator) # 가격 관련 지표에 스케일링\n",
    "#month_indicator = np_utils.to_categorical(month_indicator)\n",
    "\n",
    "#scaler_etc = MinMaxScaler(feature_range=(-1, 1)) # 0~1 값으로 스케일링\n",
    "#scaled_etc_indicator = scaler_etc.fit_transform(etc_indicator) # 추세 또는 거래량 활용 지표에 스케일링"
   ]
  },
  {
   "cell_type": "code",
   "execution_count": 66,
   "metadata": {},
   "outputs": [],
   "source": [
    "x = scaled_test\n",
    "y = x[:, [5]] # 타켓은 1년뒤 종가이다 / target is 'Close' price\n",
    "\n",
    "\n",
    "# dataX와 dataY 생성 / Creating dataset 'dataX' and 'dataY'\n",
    "seq_length = 30 # 4분기 데이터를 이용해 1년뒤 예상\n",
    "\n",
    "dataX = [] # 입력으로 사용될 Sequence Data / Input - Sequence Data\n",
    "dataY = [] # 출력(타켓)으로 사용 / Output(target)\n",
    "for i in range(0, int(len(y) - seq_length)):\n",
    "    _x = x[i : i + seq_length]\n",
    "    _y = y[i + seq_length] # 다음 나타날 주가(정답) / after 5 days later (in _x), 'Close' price is the correct answer.\n",
    "    dataX.append(_x) # dataX 리스트에 추가 / add to dataX's list\n",
    "    dataY.append(_y) # dataY 리스트에 추가 / add to dataY's list\n",
    "#     print(_x[0:4])\n",
    "#     print('--------------')\n",
    "#     print(_y[0])\n",
    "#     print('--------------')"
   ]
  },
  {
   "cell_type": "code",
   "execution_count": null,
   "metadata": {},
   "outputs": [],
   "source": []
  },
  {
   "cell_type": "code",
   "execution_count": null,
   "metadata": {},
   "outputs": [],
   "source": []
  },
  {
   "cell_type": "code",
   "execution_count": 68,
   "metadata": {},
   "outputs": [],
   "source": [
    "# 학습용/테스트용 데이터 생성\n",
    "train_data_size = 0.70\n",
    "train_size = int(len(dataY) * train_data_size)\n",
    "test_size = len(dataY) - train_size"
   ]
  },
  {
   "cell_type": "code",
   "execution_count": 69,
   "metadata": {},
   "outputs": [],
   "source": [
    "# 데이터를 잘라 학습용 데이터 생성\n",
    "trainX = np.array(dataX[0:train_size])\n",
    "trainY = np.array(dataY[0:train_size])"
   ]
  },
  {
   "cell_type": "code",
   "execution_count": 70,
   "metadata": {},
   "outputs": [
    {
     "name": "stdout",
     "output_type": "stream",
     "text": [
      "==================================================\n",
      "(30, 6)\n",
      "(1,)\n",
      "(3603, 30, 6)\n",
      "(3603, 1)\n",
      "==================================================\n"
     ]
    }
   ],
   "source": [
    "# 데이터를 잘라 테스트용 데이터 생성\n",
    "testX = np.array(dataX[train_size:len(dataX)])\n",
    "testY = np.array(dataY[train_size:len(dataY)])\n",
    "\n",
    "print(\"=\"*50)\n",
    "print(_x.shape)\n",
    "print(_y.shape)\n",
    "print(trainX.shape)\n",
    "print(trainY.shape)\n",
    "print(\"=\"*50)"
   ]
  },
  {
   "cell_type": "code",
   "execution_count": 71,
   "metadata": {},
   "outputs": [
    {
     "name": "stderr",
     "output_type": "stream",
     "text": [
      "C:\\Python\\Anaconda3-52\\lib\\site-packages\\ipykernel_launcher.py:6: UserWarning: The `input_dim` and `input_length` arguments in recurrent layers are deprecated. Use `input_shape` instead.\n",
      "  \n",
      "C:\\Python\\Anaconda3-52\\lib\\site-packages\\ipykernel_launcher.py:6: UserWarning: Update your `LSTM` call to the Keras 2 API: `LSTM(64, return_sequences=True, stateful=False, input_shape=(30, 6))`\n",
      "  \n"
     ]
    },
    {
     "name": "stdout",
     "output_type": "stream",
     "text": [
      "_________________________________________________________________\n",
      "Layer (type)                 Output Shape              Param #   \n",
      "=================================================================\n",
      "lstm_9 (LSTM)                (None, 30, 64)            18176     \n",
      "_________________________________________________________________\n",
      "lstm_10 (LSTM)               (None, 64)                33024     \n",
      "_________________________________________________________________\n",
      "dense_5 (Dense)              (None, 1)                 65        \n",
      "_________________________________________________________________\n",
      "activation_5 (Activation)    (None, 1)                 0         \n",
      "=================================================================\n",
      "Total params: 51,265\n",
      "Trainable params: 51,265\n",
      "Non-trainable params: 0\n",
      "_________________________________________________________________\n",
      "==================================================\n",
      "Train on 3603 samples, validate on 1545 samples\n",
      "Epoch 1/30\n",
      "3603/3603 [==============================] - 11s 3ms/step - loss: 8.9308e-05 - val_loss: 3.4366e-04\n",
      "Epoch 2/30\n",
      "3603/3603 [==============================] - 11s 3ms/step - loss: 1.6601e-05 - val_loss: 3.1463e-04\n",
      "Epoch 3/30\n",
      "3603/3603 [==============================] - 10s 3ms/step - loss: 1.4701e-05 - val_loss: 7.0418e-04\n",
      "Epoch 4/30\n",
      "3603/3603 [==============================] - 10s 3ms/step - loss: 1.4610e-05 - val_loss: 2.9280e-04\n",
      "Epoch 5/30\n",
      "3603/3603 [==============================] - 11s 3ms/step - loss: 1.3562e-05 - val_loss: 2.4145e-04\n",
      "Epoch 6/30\n",
      "3603/3603 [==============================] - 10s 3ms/step - loss: 1.1616e-05 - val_loss: 1.9789e-04\n",
      "Epoch 7/30\n",
      "3603/3603 [==============================] - 9s 3ms/step - loss: 1.1187e-05 - val_loss: 2.7939e-04\n",
      "Epoch 8/30\n",
      "3603/3603 [==============================] - 10s 3ms/step - loss: 1.0585e-05 - val_loss: 2.6635e-04\n",
      "Epoch 9/30\n",
      "3603/3603 [==============================] - 10s 3ms/step - loss: 1.1171e-05 - val_loss: 1.4766e-04\n",
      "Epoch 10/30\n",
      "3603/3603 [==============================] - 10s 3ms/step - loss: 1.0085e-05 - val_loss: 1.8510e-04\n",
      "Epoch 11/30\n",
      "3603/3603 [==============================] - 10s 3ms/step - loss: 9.9479e-06 - val_loss: 1.2622e-04\n",
      "Epoch 12/30\n",
      "3603/3603 [==============================] - 10s 3ms/step - loss: 9.4892e-06 - val_loss: 2.0532e-04\n",
      "Epoch 13/30\n",
      "3603/3603 [==============================] - 11s 3ms/step - loss: 8.9544e-06 - val_loss: 2.8749e-04\n",
      "Epoch 14/30\n",
      "3603/3603 [==============================] - 10s 3ms/step - loss: 9.4432e-06 - val_loss: 1.7856e-04\n",
      "Epoch 15/30\n",
      "3603/3603 [==============================] - 10s 3ms/step - loss: 7.6197e-06 - val_loss: 1.1958e-04\n",
      "Epoch 16/30\n",
      "3603/3603 [==============================] - 10s 3ms/step - loss: 7.7426e-06 - val_loss: 3.1942e-04\n",
      "Epoch 17/30\n",
      "3603/3603 [==============================] - 9s 3ms/step - loss: 7.3625e-06 - val_loss: 2.4394e-04\n",
      "Epoch 18/30\n",
      "3603/3603 [==============================] - 9s 3ms/step - loss: 6.7661e-06 - val_loss: 1.3924e-04\n",
      "Epoch 19/30\n",
      "3603/3603 [==============================] - 10s 3ms/step - loss: 6.6600e-06 - val_loss: 5.2038e-04\n",
      "Epoch 20/30\n",
      "3603/3603 [==============================] - 10s 3ms/step - loss: 7.0005e-06 - val_loss: 1.5261e-04\n",
      "Epoch 21/30\n",
      "3603/3603 [==============================] - 10s 3ms/step - loss: 6.4387e-06 - val_loss: 1.7854e-04\n",
      "Epoch 22/30\n",
      "3603/3603 [==============================] - 10s 3ms/step - loss: 6.2565e-06 - val_loss: 1.4736e-04\n",
      "Epoch 23/30\n",
      "3603/3603 [==============================] - 10s 3ms/step - loss: 5.9325e-06 - val_loss: 1.0397e-04\n",
      "Epoch 24/30\n",
      "3603/3603 [==============================] - 10s 3ms/step - loss: 6.4828e-06 - val_loss: 2.0076e-04\n",
      "Epoch 25/30\n",
      "3603/3603 [==============================] - 10s 3ms/step - loss: 5.7742e-06 - val_loss: 9.6379e-05\n",
      "Epoch 26/30\n",
      "3603/3603 [==============================] - 10s 3ms/step - loss: 6.0576e-06 - val_loss: 1.3490e-04\n",
      "Epoch 27/30\n",
      "3603/3603 [==============================] - 10s 3ms/step - loss: 5.5397e-06 - val_loss: 2.7738e-04\n",
      "Epoch 28/30\n",
      "3603/3603 [==============================] - 10s 3ms/step - loss: 5.7575e-06 - val_loss: 1.3673e-04\n",
      "Epoch 29/30\n",
      "3603/3603 [==============================] - 10s 3ms/step - loss: 5.5827e-06 - val_loss: 2.6210e-04\n",
      "Epoch 30/30\n",
      "3603/3603 [==============================] - 10s 3ms/step - loss: 5.2840e-06 - val_loss: 8.9511e-05\n"
     ]
    },
    {
     "name": "stderr",
     "output_type": "stream",
     "text": [
      "No handles with labels found to put in legend.\n"
     ]
    },
    {
     "name": "stdout",
     "output_type": "stream",
     "text": [
      "[8.930758994746821e-05, 1.6600585131113643e-05, 1.4701014802932303e-05, 1.4610009836034521e-05, 1.356211676258046e-05, 1.1616436573103442e-05, 1.1187421599704995e-05, 1.0584618709991136e-05, 1.1171086687985129e-05, 1.0085100671235536e-05, 9.947927563407897e-06, 9.489174500306427e-06, 8.954425583890087e-06, 9.443201293334836e-06, 7.61969315286075e-06, 7.742628071530216e-06, 7.362516582935442e-06, 6.766085334430615e-06, 6.660037232138249e-06, 7.000514011131664e-06, 6.438749183142541e-06, 6.256452858808346e-06, 5.9325125769776796e-06, 6.48281999300372e-06, 5.774204187045944e-06, 6.057608772280491e-06, 5.539657991333565e-06, 5.757547758315511e-06, 5.582655425235685e-06, 5.28399914087278e-06]\n",
      "[0.0003436647690709701, 0.00031463295116262964, 0.0007041803339622843, 0.0002928025818778003, 0.00024144985941774625, 0.00019789288115452578, 0.00027939489012501957, 0.0002663513922628353, 0.00014765858513871615, 0.00018510131889354803, 0.0001262167189013598, 0.00020532247275649042, 0.00028748869177098703, 0.0001785615390033554, 0.00011958168508211063, 0.00031941558818377494, 0.00024393874872301617, 0.00013924460886904336, 0.0005203834655622139, 0.00015260672565394393, 0.0001785364965288478, 0.00014736344238463356, 0.0001039729204510047, 0.00020075967502717154, 9.637922569423685e-05, 0.0001349007466646054, 0.00027738255892496356, 0.00013673158668698482, 0.00026209910907550916, 8.951144821905684e-05]\n"
     ]
    },
    {
     "data": {
      "image/png": "[encoded data removed]",
      "text/plain": [
       "<Figure size 432x288 with 2 Axes>"
      ]
     },
     "metadata": {},
     "output_type": "display_data"
    },
    {
     "name": "stdout",
     "output_type": "stream",
     "text": [
      "1545/1545 [==============================] - 3s 2ms/step\n"
     ]
    },
    {
     "data": {
      "image/png": "[encoded data removed]",
      "text/plain": [
       "<Figure size 432x288 with 1 Axes>"
      ]
     },
     "metadata": {},
     "output_type": "display_data"
    }
   ],
   "source": [
    "## LSTM 모델\n",
    "\n",
    "input_columns = 6\n",
    "\n",
    "model = Sequential()\n",
    "model.add(LSTM(64, input_dim=input_columns, input_length=seq_length, return_sequences=True, stateful=False))\n",
    "model.add(LSTM(64, return_sequences=False, stateful=False))\n",
    "model.add(Dense(1))\n",
    "model.add(Activation('linear'))\n",
    "# , dropout=0.2\n",
    "\n",
    "\n",
    "# 모델 학습 설정 및 진행\n",
    "keras.optimizers.Adam(lr=0.01, beta_1=0.9, beta_2=0.999, epsilon=None, decay=0.0, amsgrad=False)\n",
    "model.compile(loss='mean_squared_error', optimizer='adam')\n",
    "model.summary()\n",
    "print(\"=\"*50)\n",
    "hist = model.fit(trainX, trainY, epochs=30, batch_size=20, verbose=1, validation_data=(testX, testY))\n",
    "\n",
    "\n",
    "# 학습 과정 살펴보기\n",
    "print(hist.history['loss'])\n",
    "print(hist.history['val_loss'])\n",
    "fig, loss_ax = plt.subplots()\n",
    "acc_ax = loss_ax.twinx()\n",
    "loss_ax.plot(hist.history['loss'], 'y', label='train loss')\n",
    "loss_ax.plot(hist.history['val_loss'], 'r', label='val loss')\n",
    "loss_ax.set_xlabel('epoch')\n",
    "loss_ax.set_ylabel('loss')\n",
    "loss_ax.legend(loc='upper left')\n",
    "acc_ax.legend(loc='lower left')\n",
    "plt.show()\n",
    "\n",
    "\n",
    "\n",
    "# 예측\n",
    "y_pred = model.predict(testX, batch_size=5, verbose=1) # , steps=5\n",
    "plt.plot(testY, color = 'blue', label = 'Actual Stock Price')\n",
    "plt.plot(y_pred, color = 'red', label = 'Predicted Stock Price')\n",
    "plt.title('Stock Price Prediction')\n",
    "plt.xlabel('Time')\n",
    "plt.ylabel('Stock Price')\n",
    "plt.legend()\n",
    "plt.show()\n",
    "\n",
    "\n",
    "# 모델 저장\n",
    "model.save('모든변수예측모델_01.h5')\n",
    "\n",
    "# cf. 모델 로드하는거!\n",
    "#model = load_model('lstm_stock_prediction_01.h5')"
   ]
  },
  {
   "cell_type": "markdown",
   "metadata": {},
   "source": [
    "# 모델 구성\n",
    "주가, 최고가, 최저가, 수정주가, 거래량 등을 구하고 / 이를 데이터프레임으로 만들고 / 이를 데이터프레임 밑에 붙인다.  "
   ]
  },
  {
   "cell_type": "markdown",
   "metadata": {},
   "source": [
    "위의 모형은 너무 어렵고 모델을 계속 업데이트 시켜줘야하는 문제가 있다. 따라서 위 방법은 가장 나중에 하자. 가장 완벽한 방법이긴 하다.  \n",
    "구글 colab 등을 이용해 빨리돌리면 될거같다.  \n",
    "  \n",
    " 이번에는 60%를 이용해 30%를 예측하고 예측된 30% 값을 이용해 모델을 만들고 10%값에 대해 다시 맞추는 모델을 만들어 보자!"
   ]
  }
 ],
 "metadata": {
  "kernelspec": {
   "display_name": "Python 3",
   "language": "python",
   "name": "python3"
  },
  "language_info": {
   "codemirror_mode": {
    "name": "ipython",
    "version": 3
   },
   "file_extension": ".py",
   "mimetype": "text/x-python",
   "name": "python",
   "nbconvert_exporter": "python",
   "pygments_lexer": "ipython3",
   "version": "3.6.5"
  }
 },
 "nbformat": 4,
 "nbformat_minor": 2
}
