{
 "cells": [
  {
   "cell_type": "code",
   "execution_count": 1,
   "metadata": {},
   "outputs": [
    {
     "name": "stdout",
     "output_type": "stream",
     "text": [
      "Requirement already satisfied: autokeras in c:\\python\\python36\\lib\\site-packages (0.3.7)\n",
      "Requirement already satisfied: scikit-learn==0.20.2 in c:\\python\\python36\\lib\\site-packages (from autokeras) (0.20.2)\n",
      "Requirement already satisfied: scikit-image==0.14.2 in c:\\python\\python36\\lib\\site-packages (from autokeras) (0.14.2)\n",
      "Requirement already satisfied: numpy==1.15.4 in c:\\python\\python36\\lib\\site-packages (from autokeras) (1.15.4)\n",
      "Requirement already satisfied: imageio==2.4.1 in c:\\python\\python36\\lib\\site-packages (from autokeras) (2.4.1)\n",
      "Requirement already satisfied: unidecode in c:\\python\\python36\\lib\\site-packages (from autokeras) (1.0.23)\n",
      "Requirement already satisfied: numba in c:\\python\\python36\\lib\\site-packages (from autokeras) (0.42.0)\n",
      "Requirement already satisfied: tqdm==4.29.1 in c:\\python\\python36\\lib\\site-packages (from autokeras) (4.29.1)\n",
      "Requirement already satisfied: boto3 in c:\\python\\python36\\lib\\site-packages (from autokeras) (1.9.95)\n",
      "Requirement already satisfied: scipy==1.2.0 in c:\\python\\python36\\lib\\site-packages (from autokeras) (1.2.0)\n",
      "Requirement already satisfied: keras==2.2.4 in c:\\python\\python36\\lib\\site-packages (from autokeras) (2.2.4)\n",
      "Requirement already satisfied: lightgbm==2.2.3 in c:\\python\\python36\\lib\\site-packages (from autokeras) (2.2.3)\n",
      "Requirement already satisfied: torch==1.0.1 in c:\\python\\python36\\lib\\site-packages (from autokeras) (1.0.1)\n",
      "Requirement already satisfied: torchvision==0.2.1 in c:\\python\\python36\\lib\\site-packages (from autokeras) (0.2.1)\n",
      "Requirement already satisfied: librosa==0.6.2 in c:\\python\\python36\\lib\\site-packages (from autokeras) (0.6.2)\n",
      "Requirement already satisfied: inflect in c:\\python\\python36\\lib\\site-packages (from autokeras) (2.1.0)\n",
      "Requirement already satisfied: pandas==0.23.4 in c:\\python\\python36\\lib\\site-packages (from autokeras) (0.23.4)\n",
      "Requirement already satisfied: lws==1.2 in c:\\python\\python36\\lib\\site-packages (from autokeras) (1.2)\n",
      "Requirement already satisfied: nltk==3.3 in c:\\python\\python36\\lib\\site-packages (from autokeras) (3.3)\n",
      "Requirement already satisfied: opencv-python==4.0.0.21 in c:\\python\\python36\\lib\\site-packages (from autokeras) (4.0.0.21)\n",
      "Requirement already satisfied: requests==2.21.0 in c:\\python\\python36\\lib\\site-packages (from autokeras) (2.21.0)\n",
      "Requirement already satisfied: tensorflow==1.12.0 in c:\\python\\python36\\lib\\site-packages (from autokeras) (1.12.0)\n",
      "Requirement already satisfied: dask[array]>=1.0.0 in c:\\python\\python36\\lib\\site-packages (from scikit-image==0.14.2->autokeras) (1.1.1)\n",
      "Requirement already satisfied: networkx>=1.8 in c:\\python\\python36\\lib\\site-packages (from scikit-image==0.14.2->autokeras) (2.2)\n",
      "Requirement already satisfied: pillow>=4.3.0 in c:\\python\\python36\\lib\\site-packages (from scikit-image==0.14.2->autokeras) (5.4.1)\n",
      "Requirement already satisfied: cloudpickle>=0.2.1 in c:\\python\\python36\\lib\\site-packages (from scikit-image==0.14.2->autokeras) (0.8.0)\n",
      "Requirement already satisfied: six>=1.10.0 in c:\\python\\python36\\lib\\site-packages (from scikit-image==0.14.2->autokeras) (1.12.0)\n",
      "Requirement already satisfied: PyWavelets>=0.4.0 in c:\\python\\python36\\lib\\site-packages (from scikit-image==0.14.2->autokeras) (1.0.1)\n",
      "Requirement already satisfied: llvmlite>=0.27.0dev0 in c:\\python\\python36\\lib\\site-packages (from numba->autokeras) (0.27.0)\n",
      "Requirement already satisfied: jmespath<1.0.0,>=0.7.1 in c:\\python\\python36\\lib\\site-packages (from boto3->autokeras) (0.9.3)\n",
      "Requirement already satisfied: s3transfer<0.3.0,>=0.2.0 in c:\\python\\python36\\lib\\site-packages (from boto3->autokeras) (0.2.0)\n",
      "Requirement already satisfied: botocore<1.13.0,>=1.12.95 in c:\\python\\python36\\lib\\site-packages (from boto3->autokeras) (1.12.95)\n",
      "Requirement already satisfied: pyyaml in c:\\python\\python36\\lib\\site-packages (from keras==2.2.4->autokeras) (3.13)\n",
      "Requirement already satisfied: h5py in c:\\python\\python36\\lib\\site-packages (from keras==2.2.4->autokeras) (2.9.0)\n",
      "Requirement already satisfied: keras-applications>=1.0.6 in c:\\python\\python36\\lib\\site-packages (from keras==2.2.4->autokeras) (1.0.7)\n",
      "Requirement already satisfied: keras-preprocessing>=1.0.5 in c:\\python\\python36\\lib\\site-packages (from keras==2.2.4->autokeras) (1.0.9)\n",
      "Requirement already satisfied: joblib>=0.12 in c:\\python\\python36\\lib\\site-packages (from librosa==0.6.2->autokeras) (0.13.2)\n",
      "Requirement already satisfied: audioread>=2.0.0 in c:\\python\\python36\\lib\\site-packages (from librosa==0.6.2->autokeras) (2.1.6)\n",
      "Requirement already satisfied: resampy>=0.2.0 in c:\\python\\python36\\lib\\site-packages (from librosa==0.6.2->autokeras) (0.2.1)\n",
      "Requirement already satisfied: decorator>=3.0.0 in c:\\python\\python36\\lib\\site-packages (from librosa==0.6.2->autokeras) (4.3.0)\n",
      "Requirement already satisfied: pytz>=2011k in c:\\python\\python36\\lib\\site-packages (from pandas==0.23.4->autokeras) (2018.9)\n",
      "Requirement already satisfied: python-dateutil>=2.5.0 in c:\\python\\python36\\lib\\site-packages (from pandas==0.23.4->autokeras) (2.7.5)\n",
      "Requirement already satisfied: certifi>=2017.4.17 in c:\\python\\python36\\lib\\site-packages (from requests==2.21.0->autokeras) (2018.11.29)\n",
      "Requirement already satisfied: chardet<3.1.0,>=3.0.2 in c:\\python\\python36\\lib\\site-packages (from requests==2.21.0->autokeras) (3.0.4)\n",
      "Requirement already satisfied: idna<2.9,>=2.5 in c:\\python\\python36\\lib\\site-packages (from requests==2.21.0->autokeras) (2.8)\n",
      "Requirement already satisfied: urllib3<1.25,>=1.21.1 in c:\\python\\python36\\lib\\site-packages (from requests==2.21.0->autokeras) (1.22)\n",
      "Requirement already satisfied: astor>=0.6.0 in c:\\python\\python36\\lib\\site-packages (from tensorflow==1.12.0->autokeras) (0.7.1)\n",
      "Requirement already satisfied: termcolor>=1.1.0 in c:\\python\\python36\\lib\\site-packages (from tensorflow==1.12.0->autokeras) (1.1.0)\n",
      "Requirement already satisfied: grpcio>=1.8.6 in c:\\python\\python36\\lib\\site-packages (from tensorflow==1.12.0->autokeras) (1.17.1)\n",
      "Requirement already satisfied: absl-py>=0.1.6 in c:\\python\\python36\\lib\\site-packages (from tensorflow==1.12.0->autokeras) (0.6.1)\n",
      "Requirement already satisfied: gast>=0.2.0 in c:\\python\\python36\\lib\\site-packages (from tensorflow==1.12.0->autokeras) (0.2.0)\n",
      "Requirement already satisfied: protobuf>=3.6.1 in c:\\python\\python36\\lib\\site-packages (from tensorflow==1.12.0->autokeras) (3.6.1)\n",
      "Requirement already satisfied: tensorboard<1.13.0,>=1.12.0 in c:\\python\\python36\\lib\\site-packages (from tensorflow==1.12.0->autokeras) (1.12.2)\n",
      "Requirement already satisfied: wheel>=0.26 in c:\\python\\python36\\lib\\site-packages (from tensorflow==1.12.0->autokeras) (0.32.3)\n",
      "Requirement already satisfied: toolz>=0.7.3; extra == \"array\" in c:\\python\\python36\\lib\\site-packages (from dask[array]>=1.0.0->scikit-image==0.14.2->autokeras) (0.9.0)\n",
      "Requirement already satisfied: docutils>=0.10 in c:\\python\\python36\\lib\\site-packages (from botocore<1.13.0,>=1.12.95->boto3->autokeras) (0.14)\n",
      "Requirement already satisfied: setuptools in c:\\python\\python36\\lib\\site-packages (from protobuf>=3.6.1->tensorflow==1.12.0->autokeras) (39.0.1)\n",
      "Requirement already satisfied: markdown>=2.6.8 in c:\\python\\python36\\lib\\site-packages (from tensorboard<1.13.0,>=1.12.0->tensorflow==1.12.0->autokeras) (3.0.1)\n",
      "Requirement already satisfied: werkzeug>=0.11.10 in c:\\python\\python36\\lib\\site-packages (from tensorboard<1.13.0,>=1.12.0->tensorflow==1.12.0->autokeras) (0.14.1)\n"
     ]
    }
   ],
   "source": [
    "! pip install autokeras"
   ]
  },
  {
   "cell_type": "code",
   "execution_count": 4,
   "metadata": {},
   "outputs": [
    {
     "name": "stdout",
     "output_type": "stream",
     "text": [
      "Requirement already satisfied: autokeras in c:\\python\\python36\\lib\\site-packages (0.3.7)\n",
      "Requirement already satisfied: scikit-image==0.14.2 in c:\\python\\python36\\lib\\site-packages (from autokeras) (0.14.2)\n",
      "Requirement already satisfied: tensorflow==1.12.0 in c:\\python\\python36\\lib\\site-packages (from autokeras) (1.12.0)\n",
      "Requirement already satisfied: unidecode in c:\\python\\python36\\lib\\site-packages (from autokeras) (1.0.23)\n",
      "Requirement already satisfied: requests==2.21.0 in c:\\python\\python36\\lib\\site-packages (from autokeras) (2.21.0)\n",
      "Requirement already satisfied: pandas==0.23.4 in c:\\python\\python36\\lib\\site-packages (from autokeras) (0.23.4)\n",
      "Requirement already satisfied: nltk==3.3 in c:\\python\\python36\\lib\\site-packages (from autokeras) (3.3)\n",
      "Requirement already satisfied: lws==1.2 in c:\\python\\python36\\lib\\site-packages (from autokeras) (1.2)\n",
      "Requirement already satisfied: librosa==0.6.2 in c:\\python\\python36\\lib\\site-packages (from autokeras) (0.6.2)\n",
      "Requirement already satisfied: torch==1.0.1 in c:\\python\\python36\\lib\\site-packages (from autokeras) (1.0.1)\n",
      "Requirement already satisfied: numba in c:\\python\\python36\\lib\\site-packages (from autokeras) (0.42.0)\n",
      "Requirement already satisfied: lightgbm==2.2.3 in c:\\python\\python36\\lib\\site-packages (from autokeras) (2.2.3)\n",
      "Requirement already satisfied: keras==2.2.4 in c:\\python\\python36\\lib\\site-packages (from autokeras) (2.2.4)\n",
      "Requirement already satisfied: inflect in c:\\python\\python36\\lib\\site-packages (from autokeras) (2.1.0)\n",
      "Requirement already satisfied: scipy==1.2.0 in c:\\python\\python36\\lib\\site-packages (from autokeras) (1.2.0)\n",
      "Requirement already satisfied: scikit-learn==0.20.2 in c:\\python\\python36\\lib\\site-packages (from autokeras) (0.20.2)\n",
      "Requirement already satisfied: tqdm==4.29.1 in c:\\python\\python36\\lib\\site-packages (from autokeras) (4.29.1)\n",
      "Requirement already satisfied: boto3 in c:\\python\\python36\\lib\\site-packages (from autokeras) (1.9.95)\n",
      "Requirement already satisfied: opencv-python==4.0.0.21 in c:\\python\\python36\\lib\\site-packages (from autokeras) (4.0.0.21)\n",
      "Requirement already satisfied: numpy==1.15.4 in c:\\python\\python36\\lib\\site-packages (from autokeras) (1.15.4)\n",
      "Requirement already satisfied: imageio==2.4.1 in c:\\python\\python36\\lib\\site-packages (from autokeras) (2.4.1)\n",
      "Requirement already satisfied: torchvision==0.2.1 in c:\\python\\python36\\lib\\site-packages (from autokeras) (0.2.1)\n",
      "Requirement already satisfied: pillow>=4.3.0 in c:\\python\\python36\\lib\\site-packages (from scikit-image==0.14.2->autokeras) (5.4.1)\n",
      "Requirement already satisfied: six>=1.10.0 in c:\\python\\python36\\lib\\site-packages (from scikit-image==0.14.2->autokeras) (1.12.0)\n",
      "Requirement already satisfied: cloudpickle>=0.2.1 in c:\\python\\python36\\lib\\site-packages (from scikit-image==0.14.2->autokeras) (0.8.0)\n",
      "Requirement already satisfied: networkx>=1.8 in c:\\python\\python36\\lib\\site-packages (from scikit-image==0.14.2->autokeras) (2.2)\n",
      "Requirement already satisfied: dask[array]>=1.0.0 in c:\\python\\python36\\lib\\site-packages (from scikit-image==0.14.2->autokeras) (1.1.1)\n",
      "Requirement already satisfied: PyWavelets>=0.4.0 in c:\\python\\python36\\lib\\site-packages (from scikit-image==0.14.2->autokeras) (1.0.1)\n",
      "Requirement already satisfied: keras-preprocessing>=1.0.5 in c:\\python\\python36\\lib\\site-packages (from tensorflow==1.12.0->autokeras) (1.0.9)\n",
      "Requirement already satisfied: keras-applications>=1.0.6 in c:\\python\\python36\\lib\\site-packages (from tensorflow==1.12.0->autokeras) (1.0.7)\n",
      "Requirement already satisfied: astor>=0.6.0 in c:\\python\\python36\\lib\\site-packages (from tensorflow==1.12.0->autokeras) (0.7.1)\n",
      "Requirement already satisfied: gast>=0.2.0 in c:\\python\\python36\\lib\\site-packages (from tensorflow==1.12.0->autokeras) (0.2.0)\n",
      "Requirement already satisfied: protobuf>=3.6.1 in c:\\python\\python36\\lib\\site-packages (from tensorflow==1.12.0->autokeras) (3.6.1)\n",
      "Requirement already satisfied: absl-py>=0.1.6 in c:\\python\\python36\\lib\\site-packages (from tensorflow==1.12.0->autokeras) (0.6.1)\n",
      "Requirement already satisfied: tensorboard<1.13.0,>=1.12.0 in c:\\python\\python36\\lib\\site-packages (from tensorflow==1.12.0->autokeras) (1.12.2)\n",
      "Requirement already satisfied: termcolor>=1.1.0 in c:\\python\\python36\\lib\\site-packages (from tensorflow==1.12.0->autokeras) (1.1.0)\n",
      "Requirement already satisfied: wheel>=0.26 in c:\\python\\python36\\lib\\site-packages (from tensorflow==1.12.0->autokeras) (0.32.3)\n",
      "Requirement already satisfied: grpcio>=1.8.6 in c:\\python\\python36\\lib\\site-packages (from tensorflow==1.12.0->autokeras) (1.17.1)\n",
      "Requirement already satisfied: idna<2.9,>=2.5 in c:\\python\\python36\\lib\\site-packages (from requests==2.21.0->autokeras) (2.8)\n",
      "Requirement already satisfied: chardet<3.1.0,>=3.0.2 in c:\\python\\python36\\lib\\site-packages (from requests==2.21.0->autokeras) (3.0.4)\n",
      "Requirement already satisfied: urllib3<1.25,>=1.21.1 in c:\\python\\python36\\lib\\site-packages (from requests==2.21.0->autokeras) (1.22)\n",
      "Requirement already satisfied: certifi>=2017.4.17 in c:\\python\\python36\\lib\\site-packages (from requests==2.21.0->autokeras) (2018.11.29)\n",
      "Requirement already satisfied: pytz>=2011k in c:\\python\\python36\\lib\\site-packages (from pandas==0.23.4->autokeras) (2018.9)\n",
      "Requirement already satisfied: python-dateutil>=2.5.0 in c:\\python\\python36\\lib\\site-packages (from pandas==0.23.4->autokeras) (2.7.5)\n",
      "Requirement already satisfied: resampy>=0.2.0 in c:\\python\\python36\\lib\\site-packages (from librosa==0.6.2->autokeras) (0.2.1)\n",
      "Requirement already satisfied: audioread>=2.0.0 in c:\\python\\python36\\lib\\site-packages (from librosa==0.6.2->autokeras) (2.1.6)\n",
      "Requirement already satisfied: decorator>=3.0.0 in c:\\python\\python36\\lib\\site-packages (from librosa==0.6.2->autokeras) (4.3.0)\n",
      "Requirement already satisfied: joblib>=0.12 in c:\\python\\python36\\lib\\site-packages (from librosa==0.6.2->autokeras) (0.13.2)\n",
      "Requirement already satisfied: llvmlite>=0.27.0dev0 in c:\\python\\python36\\lib\\site-packages (from numba->autokeras) (0.27.0)\n",
      "Requirement already satisfied: pyyaml in c:\\python\\python36\\lib\\site-packages (from keras==2.2.4->autokeras) (3.13)\n",
      "Requirement already satisfied: h5py in c:\\python\\python36\\lib\\site-packages (from keras==2.2.4->autokeras) (2.9.0)\n",
      "Requirement already satisfied: s3transfer<0.3.0,>=0.2.0 in c:\\python\\python36\\lib\\site-packages (from boto3->autokeras) (0.2.0)\n",
      "Requirement already satisfied: jmespath<1.0.0,>=0.7.1 in c:\\python\\python36\\lib\\site-packages (from boto3->autokeras) (0.9.3)\n",
      "Requirement already satisfied: botocore<1.13.0,>=1.12.95 in c:\\python\\python36\\lib\\site-packages (from boto3->autokeras) (1.12.95)\n",
      "Requirement already satisfied: toolz>=0.7.3; extra == \"array\" in c:\\python\\python36\\lib\\site-packages (from dask[array]>=1.0.0->scikit-image==0.14.2->autokeras) (0.9.0)\n",
      "Requirement already satisfied: setuptools in c:\\python\\python36\\lib\\site-packages (from protobuf>=3.6.1->tensorflow==1.12.0->autokeras) (39.0.1)\n",
      "Requirement already satisfied: werkzeug>=0.11.10 in c:\\python\\python36\\lib\\site-packages (from tensorboard<1.13.0,>=1.12.0->tensorflow==1.12.0->autokeras) (0.14.1)\n",
      "Requirement already satisfied: markdown>=2.6.8 in c:\\python\\python36\\lib\\site-packages (from tensorboard<1.13.0,>=1.12.0->tensorflow==1.12.0->autokeras) (3.0.1)\n",
      "Requirement already satisfied: docutils>=0.10 in c:\\python\\python36\\lib\\site-packages (from botocore<1.13.0,>=1.12.95->boto3->autokeras) (0.14)\n"
     ]
    }
   ],
   "source": [
    "! python -m pip install autokeras"
   ]
  },
  {
   "cell_type": "code",
   "execution_count": 6,
   "metadata": {},
   "outputs": [
    {
     "ename": "ModuleNotFoundError",
     "evalue": "No module named 'autokeras'",
     "output_type": "error",
     "traceback": [
      "\u001b[1;31m---------------------------------------------------------------------------\u001b[0m",
      "\u001b[1;31mModuleNotFoundError\u001b[0m                       Traceback (most recent call last)",
      "\u001b[1;32m<ipython-input-6-43b9b5252b3c>\u001b[0m in \u001b[0;36m<module>\u001b[1;34m()\u001b[0m\n\u001b[1;32m----> 1\u001b[1;33m \u001b[1;32mimport\u001b[0m \u001b[0mautokeras\u001b[0m\u001b[1;33m\u001b[0m\u001b[0m\n\u001b[0m",
      "\u001b[1;31mModuleNotFoundError\u001b[0m: No module named 'autokeras'"
     ]
    }
   ],
   "source": [
    "import autokeras"
   ]
  },
  {
   "cell_type": "code",
   "execution_count": null,
   "metadata": {},
   "outputs": [],
   "source": [
    "! pip3 install https://download.pytorch.org/whl/cpu/torch-1.0.1-cp36-cp36m-win_amd64.whl"
   ]
  },
  {
   "cell_type": "code",
   "execution_count": null,
   "metadata": {},
   "outputs": [],
   "source": [
    "! pip3 install torchvision"
   ]
  },
  {
   "cell_type": "code",
   "execution_count": null,
   "metadata": {},
   "outputs": [],
   "source": [
    "! pip install autokeras"
   ]
  },
  {
   "cell_type": "code",
   "execution_count": null,
   "metadata": {},
   "outputs": [],
   "source": [
    "import autokeras as ak"
   ]
  }
 ],
 "metadata": {
  "kernelspec": {
   "display_name": "Python 3",
   "language": "python",
   "name": "python3"
  },
  "language_info": {
   "codemirror_mode": {
    "name": "ipython",
    "version": 3
   },
   "file_extension": ".py",
   "mimetype": "text/x-python",
   "name": "python",
   "nbconvert_exporter": "python",
   "pygments_lexer": "ipython3",
   "version": "3.6.5"
  }
 },
 "nbformat": 4,
 "nbformat_minor": 2
}
