{
 "cells": [
  {
   "cell_type": "code",
   "execution_count": 1,
   "metadata": {},
   "outputs": [
    {
     "name": "stderr",
     "output_type": "stream",
     "text": [
      "Using TensorFlow backend.\n"
     ]
    }
   ],
   "source": [
    "import warnings\n",
    "warnings.filterwarnings(\"ignore\")\n",
    "import pandas as pd\n",
    "import pandas_datareader.data as web\n",
    "import time\n",
    "import tensorflow\n",
    "import matplotlib.pyplot as plt\n",
    "import datetime as dt\n",
    "import numpy as np\n",
    "import logging\n",
    "import math\n",
    "import os\n",
    "from sklearn.preprocessing import MinMaxScaler\n",
    "from keras.utils import np_utils\n",
    "import keras\n",
    "from keras.models import Sequential\n",
    "from keras.layers import Dense, LSTM, Activation\n",
    "from keras import optimizers\n",
    "from sklearn.metrics import mean_squared_error\n",
    "from keras.models import load_model"
   ]
  },
  {
   "cell_type": "code",
   "execution_count": 2,
   "metadata": {},
   "outputs": [],
   "source": [
    "pd.set_option('display.max_columns', 500)\n",
    "pd.set_option('display.width', 1000)\n",
    "pd.set_option('display.max_rows', 500)"
   ]
  },
  {
   "cell_type": "code",
   "execution_count": 3,
   "metadata": {},
   "outputs": [],
   "source": [
    "nc = pd.read_excel('./data/corr/nc_total.xlsx')\n",
    "sdi = pd.read_excel('./data/corr/sdi_total.xlsx')\n",
    "ssem = pd.read_excel('./data/corr/삼성전기_total.xlsx')\n",
    "hynix = pd.read_excel('./data/corr/하이닉스_total.xlsx')"
   ]
  },
  {
   "cell_type": "code",
   "execution_count": 4,
   "metadata": {},
   "outputs": [],
   "source": [
    "nc = nc.dropna(axis = 1)\n",
    "sdi = sdi.dropna(axis = 1)\n",
    "ssem = ssem.dropna(axis = 1)\n",
    "hynix = hynix.dropna(axis = 1)"
   ]
  },
  {
   "cell_type": "code",
   "execution_count": 5,
   "metadata": {},
   "outputs": [],
   "source": [
    "nc_corr = nc.corr(method = 'pearson')\n",
    "df_nc = pd.DataFrame(nc_corr['종가']).reset_index().sort_values('종가', ascending = False)\n",
    "df_nc.columns = ['지표','종가']\n",
    "\n",
    "sdi_corr = sdi.corr(method = 'pearson')\n",
    "df_sdi = pd.DataFrame(sdi_corr['종가']).reset_index().sort_values('종가', ascending = False)\n",
    "df_sdi.columns = ['지표','종가']\n",
    "\n",
    "ssem_corr = ssem.corr(method = 'pearson')\n",
    "df_ssem = pd.DataFrame(ssem_corr['종가']).reset_index().sort_values('종가', ascending = False)\n",
    "df_ssem.columns = ['지표','종가']\n",
    "\n",
    "hynix_corr = hynix.corr(method = 'pearson')\n",
    "df_hynix = pd.DataFrame(hynix_corr['종가']).reset_index().sort_values('종가', ascending = False)\n",
    "df_hynix.columns = ['지표','종가']"
   ]
  },
  {
   "cell_type": "code",
   "execution_count": 6,
   "metadata": {},
   "outputs": [],
   "source": [
    "list_corr = []\n",
    "order = 15\n",
    "\n",
    "for i in range(len(df_nc.index[:order])):\n",
    "    list_corr.append(df_nc.index[:order][i])\n",
    "    list_corr.append(df_sdi.index[:order][i])\n",
    "    list_corr.append(df_ssem.index[:order][i])\n",
    "    list_corr.append(df_hynix.index[:order][i])\n",
    "\n",
    "variable = pd.Series(list_corr).value_counts()\n",
    "variable = pd.DataFrame(variable).reset_index()\n",
    "variable.columns = ['var_index', 'number']"
   ]
  },
  {
   "cell_type": "code",
   "execution_count": 8,
   "metadata": {},
   "outputs": [],
   "source": [
    "var = []\n",
    "for i in range(len(variable)):\n",
    "    var.append(df_nc['지표'][variable.index[i]])\n",
    "var = pd.DataFrame(var)\n",
    "var.columns = ['var']"
   ]
  },
  {
   "cell_type": "code",
   "execution_count": 77,
   "metadata": {},
   "outputs": [
    {
     "data": {
      "text/html": [
       "<div>\n",
       "<style scoped>\n",
       "    .dataframe tbody tr th:only-of-type {\n",
       "        vertical-align: middle;\n",
       "    }\n",
       "\n",
       "    .dataframe tbody tr th {\n",
       "        vertical-align: top;\n",
       "    }\n",
       "\n",
       "    .dataframe thead th {\n",
       "        text-align: right;\n",
       "    }\n",
       "</style>\n",
       "<table border=\"1\" class=\"dataframe\">\n",
       "  <thead>\n",
       "    <tr style=\"text-align: right;\">\n",
       "      <th></th>\n",
       "      <th>var_index</th>\n",
       "      <th>var</th>\n",
       "      <th>number</th>\n",
       "    </tr>\n",
       "  </thead>\n",
       "  <tbody>\n",
       "    <tr>\n",
       "      <th>0</th>\n",
       "      <td>24</td>\n",
       "      <td>거래소코드</td>\n",
       "      <td>4</td>\n",
       "    </tr>\n",
       "    <tr>\n",
       "      <th>1</th>\n",
       "      <td>14</td>\n",
       "      <td>[공통]총자본증가율(IFRS연결)</td>\n",
       "      <td>4</td>\n",
       "    </tr>\n",
       "    <tr>\n",
       "      <th>2</th>\n",
       "      <td>47</td>\n",
       "      <td>[공통]자기자본증가율(IFRS연결)</td>\n",
       "      <td>4</td>\n",
       "    </tr>\n",
       "    <tr>\n",
       "      <th>3</th>\n",
       "      <td>46</td>\n",
       "      <td>[공통]매출액증가율(IFRS연결)</td>\n",
       "      <td>4</td>\n",
       "    </tr>\n",
       "    <tr>\n",
       "      <th>4</th>\n",
       "      <td>45</td>\n",
       "      <td>[공통]정상영업이익증가율(IFRS연결)</td>\n",
       "      <td>4</td>\n",
       "    </tr>\n",
       "    <tr>\n",
       "      <th>5</th>\n",
       "      <td>44</td>\n",
       "      <td>[공통]순이익증가율(IFRS연결)</td>\n",
       "      <td>4</td>\n",
       "    </tr>\n",
       "    <tr>\n",
       "      <th>6</th>\n",
       "      <td>7</td>\n",
       "      <td>[공통]총포괄이익증가율(IFRS연결)</td>\n",
       "      <td>3</td>\n",
       "    </tr>\n",
       "    <tr>\n",
       "      <th>7</th>\n",
       "      <td>8</td>\n",
       "      <td>[공통]매출액정상영업이익률(IFRS연결)</td>\n",
       "      <td>3</td>\n",
       "    </tr>\n",
       "    <tr>\n",
       "      <th>8</th>\n",
       "      <td>49</td>\n",
       "      <td>[공통]매출액순이익률(IFRS연결)</td>\n",
       "      <td>3</td>\n",
       "    </tr>\n",
       "    <tr>\n",
       "      <th>9</th>\n",
       "      <td>41</td>\n",
       "      <td>[공통]총자본사업이익률(IFRS연결)</td>\n",
       "      <td>2</td>\n",
       "    </tr>\n",
       "    <tr>\n",
       "      <th>10</th>\n",
       "      <td>9</td>\n",
       "      <td>[공통]총자본정상영업이익률(IFRS연결)</td>\n",
       "      <td>2</td>\n",
       "    </tr>\n",
       "    <tr>\n",
       "      <th>11</th>\n",
       "      <td>10</td>\n",
       "      <td>[공통]총자본순이익률(IFRS연결)</td>\n",
       "      <td>2</td>\n",
       "    </tr>\n",
       "    <tr>\n",
       "      <th>12</th>\n",
       "      <td>12</td>\n",
       "      <td>[공통]자기자본정상영업이익률(IFRS연결)</td>\n",
       "      <td>2</td>\n",
       "    </tr>\n",
       "    <tr>\n",
       "      <th>13</th>\n",
       "      <td>19</td>\n",
       "      <td>[공통]자기자본순이익률(IFRS연결)</td>\n",
       "      <td>2</td>\n",
       "    </tr>\n",
       "    <tr>\n",
       "      <th>14</th>\n",
       "      <td>36</td>\n",
       "      <td>[공통]자본금정상영업이익률(IFRS연결)</td>\n",
       "      <td>1</td>\n",
       "    </tr>\n",
       "    <tr>\n",
       "      <th>15</th>\n",
       "      <td>38</td>\n",
       "      <td>[공통]자본금순이익률(IFRS연결)</td>\n",
       "      <td>1</td>\n",
       "    </tr>\n",
       "    <tr>\n",
       "      <th>16</th>\n",
       "      <td>3</td>\n",
       "      <td>[공통]영업비용 대 영업수익비율(IFRS연결)</td>\n",
       "      <td>1</td>\n",
       "    </tr>\n",
       "    <tr>\n",
       "      <th>17</th>\n",
       "      <td>4</td>\n",
       "      <td>[공통]수지비율(관계기업투자손익 제외)(IFRS연결)</td>\n",
       "      <td>1</td>\n",
       "    </tr>\n",
       "    <tr>\n",
       "      <th>18</th>\n",
       "      <td>6</td>\n",
       "      <td>[공통]세금과공과 대 총비용비율(IFRS연결)</td>\n",
       "      <td>1</td>\n",
       "    </tr>\n",
       "    <tr>\n",
       "      <th>19</th>\n",
       "      <td>40</td>\n",
       "      <td>[공통]유보율(IFRS연결)</td>\n",
       "      <td>1</td>\n",
       "    </tr>\n",
       "    <tr>\n",
       "      <th>20</th>\n",
       "      <td>15</td>\n",
       "      <td>[공통]적립금비율(재정비율)(IFRS연결)</td>\n",
       "      <td>1</td>\n",
       "    </tr>\n",
       "    <tr>\n",
       "      <th>21</th>\n",
       "      <td>34</td>\n",
       "      <td>[공통]1주당매출액(IFRS연결)</td>\n",
       "      <td>1</td>\n",
       "    </tr>\n",
       "    <tr>\n",
       "      <th>22</th>\n",
       "      <td>20</td>\n",
       "      <td>[공통]1주당순이익(IFRS연결)</td>\n",
       "      <td>1</td>\n",
       "    </tr>\n",
       "    <tr>\n",
       "      <th>23</th>\n",
       "      <td>21</td>\n",
       "      <td>[공통]1주당 CASH FLOW(IFRS연결)</td>\n",
       "      <td>1</td>\n",
       "    </tr>\n",
       "    <tr>\n",
       "      <th>24</th>\n",
       "      <td>22</td>\n",
       "      <td>[공통]1주당정상영업이익(IFRS연결)</td>\n",
       "      <td>1</td>\n",
       "    </tr>\n",
       "    <tr>\n",
       "      <th>25</th>\n",
       "      <td>48</td>\n",
       "      <td>[공통]자기자본구성비율(IFRS연결)</td>\n",
       "      <td>1</td>\n",
       "    </tr>\n",
       "    <tr>\n",
       "      <th>26</th>\n",
       "      <td>26</td>\n",
       "      <td>[공통]타인자본구성비율(IFRS연결)</td>\n",
       "      <td>1</td>\n",
       "    </tr>\n",
       "    <tr>\n",
       "      <th>27</th>\n",
       "      <td>27</td>\n",
       "      <td>[공통]부채비율(IFRS연결)</td>\n",
       "      <td>1</td>\n",
       "    </tr>\n",
       "    <tr>\n",
       "      <th>28</th>\n",
       "      <td>28</td>\n",
       "      <td>[공통]차입금의존도(IFRS연결)</td>\n",
       "      <td>1</td>\n",
       "    </tr>\n",
       "    <tr>\n",
       "      <th>29</th>\n",
       "      <td>29</td>\n",
       "      <td>[공통]차입금비율(IFRS연결)</td>\n",
       "      <td>1</td>\n",
       "    </tr>\n",
       "    <tr>\n",
       "      <th>30</th>\n",
       "      <td>1</td>\n",
       "      <td>[공통]유보액대비율(IFRS연결)</td>\n",
       "      <td>1</td>\n",
       "    </tr>\n",
       "  </tbody>\n",
       "</table>\n",
       "</div>"
      ],
      "text/plain": [
       "    var_index                            var  number\n",
       "0          24                          거래소코드       4\n",
       "1          14             [공통]총자본증가율(IFRS연결)       4\n",
       "2          47            [공통]자기자본증가율(IFRS연결)       4\n",
       "3          46             [공통]매출액증가율(IFRS연결)       4\n",
       "4          45          [공통]정상영업이익증가율(IFRS연결)       4\n",
       "5          44             [공통]순이익증가율(IFRS연결)       4\n",
       "6           7           [공통]총포괄이익증가율(IFRS연결)       3\n",
       "7           8         [공통]매출액정상영업이익률(IFRS연결)       3\n",
       "8          49            [공통]매출액순이익률(IFRS연결)       3\n",
       "9          41           [공통]총자본사업이익률(IFRS연결)       2\n",
       "10          9         [공통]총자본정상영업이익률(IFRS연결)       2\n",
       "11         10            [공통]총자본순이익률(IFRS연결)       2\n",
       "12         12        [공통]자기자본정상영업이익률(IFRS연결)       2\n",
       "13         19           [공통]자기자본순이익률(IFRS연결)       2\n",
       "14         36         [공통]자본금정상영업이익률(IFRS연결)       1\n",
       "15         38            [공통]자본금순이익률(IFRS연결)       1\n",
       "16          3      [공통]영업비용 대 영업수익비율(IFRS연결)       1\n",
       "17          4  [공통]수지비율(관계기업투자손익 제외)(IFRS연결)       1\n",
       "18          6      [공통]세금과공과 대 총비용비율(IFRS연결)       1\n",
       "19         40                [공통]유보율(IFRS연결)       1\n",
       "20         15        [공통]적립금비율(재정비율)(IFRS연결)       1\n",
       "21         34             [공통]1주당매출액(IFRS연결)       1\n",
       "22         20             [공통]1주당순이익(IFRS연결)       1\n",
       "23         21      [공통]1주당 CASH FLOW(IFRS연결)       1\n",
       "24         22          [공통]1주당정상영업이익(IFRS연결)       1\n",
       "25         48           [공통]자기자본구성비율(IFRS연결)       1\n",
       "26         26           [공통]타인자본구성비율(IFRS연결)       1\n",
       "27         27               [공통]부채비율(IFRS연결)       1\n",
       "28         28             [공통]차입금의존도(IFRS연결)       1\n",
       "29         29              [공통]차입금비율(IFRS연결)       1\n",
       "30          1             [공통]유보액대비율(IFRS연결)       1"
      ]
     },
     "execution_count": 77,
     "metadata": {},
     "output_type": "execute_result"
    }
   ],
   "source": [
    "corr"
   ]
  },
  {
   "cell_type": "code",
   "execution_count": 36,
   "metadata": {},
   "outputs": [
    {
     "data": {
      "text/html": [
       "<div>\n",
       "<style scoped>\n",
       "    .dataframe tbody tr th:only-of-type {\n",
       "        vertical-align: middle;\n",
       "    }\n",
       "\n",
       "    .dataframe tbody tr th {\n",
       "        vertical-align: top;\n",
       "    }\n",
       "\n",
       "    .dataframe thead th {\n",
       "        text-align: right;\n",
       "    }\n",
       "</style>\n",
       "<table border=\"1\" class=\"dataframe\">\n",
       "  <thead>\n",
       "    <tr style=\"text-align: right;\">\n",
       "      <th></th>\n",
       "      <th>var_index</th>\n",
       "      <th>var</th>\n",
       "      <th>number</th>\n",
       "    </tr>\n",
       "  </thead>\n",
       "  <tbody>\n",
       "    <tr>\n",
       "      <th>0</th>\n",
       "      <td>24</td>\n",
       "      <td>거래소코드</td>\n",
       "      <td>4</td>\n",
       "    </tr>\n",
       "    <tr>\n",
       "      <th>1</th>\n",
       "      <td>14</td>\n",
       "      <td>[공통]총자본증가율(IFRS연결)</td>\n",
       "      <td>4</td>\n",
       "    </tr>\n",
       "    <tr>\n",
       "      <th>2</th>\n",
       "      <td>47</td>\n",
       "      <td>[공통]자기자본증가율(IFRS연결)</td>\n",
       "      <td>4</td>\n",
       "    </tr>\n",
       "    <tr>\n",
       "      <th>3</th>\n",
       "      <td>46</td>\n",
       "      <td>[공통]매출액증가율(IFRS연결)</td>\n",
       "      <td>4</td>\n",
       "    </tr>\n",
       "    <tr>\n",
       "      <th>4</th>\n",
       "      <td>45</td>\n",
       "      <td>[공통]정상영업이익증가율(IFRS연결)</td>\n",
       "      <td>4</td>\n",
       "    </tr>\n",
       "    <tr>\n",
       "      <th>5</th>\n",
       "      <td>44</td>\n",
       "      <td>[공통]순이익증가율(IFRS연결)</td>\n",
       "      <td>4</td>\n",
       "    </tr>\n",
       "    <tr>\n",
       "      <th>6</th>\n",
       "      <td>7</td>\n",
       "      <td>[공통]총포괄이익증가율(IFRS연결)</td>\n",
       "      <td>3</td>\n",
       "    </tr>\n",
       "    <tr>\n",
       "      <th>7</th>\n",
       "      <td>8</td>\n",
       "      <td>[공통]매출액정상영업이익률(IFRS연결)</td>\n",
       "      <td>3</td>\n",
       "    </tr>\n",
       "    <tr>\n",
       "      <th>8</th>\n",
       "      <td>49</td>\n",
       "      <td>[공통]매출액순이익률(IFRS연결)</td>\n",
       "      <td>3</td>\n",
       "    </tr>\n",
       "    <tr>\n",
       "      <th>9</th>\n",
       "      <td>41</td>\n",
       "      <td>[공통]총자본사업이익률(IFRS연결)</td>\n",
       "      <td>2</td>\n",
       "    </tr>\n",
       "  </tbody>\n",
       "</table>\n",
       "</div>"
      ],
      "text/plain": [
       "   var_index                     var  number\n",
       "0         24                   거래소코드       4\n",
       "1         14      [공통]총자본증가율(IFRS연결)       4\n",
       "2         47     [공통]자기자본증가율(IFRS연결)       4\n",
       "3         46      [공통]매출액증가율(IFRS연결)       4\n",
       "4         45   [공통]정상영업이익증가율(IFRS연결)       4\n",
       "5         44      [공통]순이익증가율(IFRS연결)       4\n",
       "6          7    [공통]총포괄이익증가율(IFRS연결)       3\n",
       "7          8  [공통]매출액정상영업이익률(IFRS연결)       3\n",
       "8         49     [공통]매출액순이익률(IFRS연결)       3\n",
       "9         41    [공통]총자본사업이익률(IFRS연결)       2"
      ]
     },
     "execution_count": 36,
     "metadata": {},
     "output_type": "execute_result"
    }
   ],
   "source": [
    "corr = pd.concat([variable,var], axis = 1)\n",
    "corr = corr[['var_index','var','number']]\n",
    "corr.head(10)"
   ]
  },
  {
   "cell_type": "code",
   "execution_count": 50,
   "metadata": {},
   "outputs": [
    {
     "data": {
      "text/plain": [
       "0                    거래소코드\n",
       "1       [공통]총자본증가율(IFRS연결)\n",
       "2      [공통]자기자본증가율(IFRS연결)\n",
       "3       [공통]매출액증가율(IFRS연결)\n",
       "4    [공통]정상영업이익증가율(IFRS연결)\n",
       "5       [공통]순이익증가율(IFRS연결)\n",
       "Name: var, dtype: object"
      ]
     },
     "execution_count": 50,
     "metadata": {},
     "output_type": "execute_result"
    }
   ],
   "source": [
    "corr.loc[:5,'var']"
   ]
  },
  {
   "cell_type": "code",
   "execution_count": 78,
   "metadata": {},
   "outputs": [],
   "source": [
    "nc_deep = nc[corr.loc[1:5,'var']]\n",
    "\n",
    "nc_deep['종가'] = nc['종가']"
   ]
  },
  {
   "cell_type": "code",
   "execution_count": 91,
   "metadata": {},
   "outputs": [
    {
     "data": {
      "text/plain": [
       "5"
      ]
     },
     "execution_count": 91,
     "metadata": {},
     "output_type": "execute_result"
    }
   ],
   "source": [
    "len(x_data.columns)"
   ]
  },
  {
   "cell_type": "code",
   "execution_count": 80,
   "metadata": {},
   "outputs": [],
   "source": [
    "nc_deep = nc_deep[['[공통]총자본증가율(IFRS연결)', '[공통]자기자본증가율(IFRS연결)', '[공통]매출액증가율(IFRS연결)', '[공통]정상영업이익증가율(IFRS연결)', '[공통]순이익증가율(IFRS연결)', '종가']]"
   ]
  },
  {
   "cell_type": "code",
   "execution_count": 81,
   "metadata": {},
   "outputs": [
    {
     "data": {
      "text/plain": [
       "'종가'"
      ]
     },
     "execution_count": 81,
     "metadata": {},
     "output_type": "execute_result"
    }
   ],
   "source": [
    "nc_deep.columns[-1]"
   ]
  },
  {
   "cell_type": "code",
   "execution_count": 94,
   "metadata": {},
   "outputs": [],
   "source": [
    "import tensorflow as tf\n",
    "from tqdm import tqdm_notebook\n",
    "tf.set_random_seed(777)  # for reproducibility\n",
    "\n",
    "x_data = nc_deep.loc[:,nc_deep.columns[:-1]]\n",
    "y_data = nc_deep.loc[:,[nc_deep.columns[-1]]] # 괄호를 한번 더 씌어야 한다는 거 유의!!!!!!\n",
    "\n",
    "\n",
    "# placeholders for a tensor that will be always fed.\n",
    "X = tf.placeholder(tf.float32, shape=[None, 5])\n",
    "Y = tf.placeholder(tf.float32, shape=[None, 1])\n",
    "\n",
    "W = tf.Variable(tf.random_normal([5, 1]), name='weight')\n",
    "b = tf.Variable(tf.random_normal([1]), name='bias')\n",
    "\n",
    "# Hypothesis\n",
    "hypothesis = tf.matmul(X, W) + b\n",
    "\n",
    "# Simplified cost/loss function\n",
    "cost = tf.reduce_mean(tf.square(hypothesis - Y))\n",
    "\n",
    "# Minimize\n",
    "optimizer = tf.train.GradientDescentOptimizer(learning_rate=1e-5)\n",
    "train = optimizer.minimize(cost)"
   ]
  },
  {
   "cell_type": "code",
   "execution_count": 101,
   "metadata": {
    "scrolled": false
   },
   "outputs": [],
   "source": [
    "# Launch the graph in a session.\n",
    "sess = tf.Session()\n",
    "\n",
    "# Initializes global variables in the graph.\n",
    "sess.run(tf.global_variables_initializer())\n",
    "\n",
    "for step in tqdm_notebook(range(2000001)):\n",
    "    cost_val, hy_val, _ = sess.run(\n",
    "        [cost, hypothesis, train], feed_dict={X: x_data, Y: y_data})\n",
    "\n",
    "    if step % 100 == 0 or step < 10 :\n",
    "        print(\"\\nStep : {} \\nCost : {} \\nPrediction :\\n{}\".format(step, cost_val, hy_val))\n"
   ]
  },
  {
   "cell_type": "code",
   "execution_count": 100,
   "metadata": {},
   "outputs": [
    {
     "data": {
      "text/plain": [
       "0     150500\n",
       "1     162000\n",
       "2     248500\n",
       "3     182500\n",
       "4     182000\n",
       "5     198500\n",
       "6     213000\n",
       "7     236000\n",
       "8     247500\n",
       "9     378500\n",
       "10    447500\n",
       "11    371000\n",
       "Name: 종가, dtype: int64"
      ]
     },
     "execution_count": 100,
     "metadata": {},
     "output_type": "execute_result"
    }
   ],
   "source": [
    "nc_deep['종가']"
   ]
  },
  {
   "cell_type": "code",
   "execution_count": null,
   "metadata": {},
   "outputs": [],
   "source": []
  }
 ],
 "metadata": {
  "kernelspec": {
   "display_name": "Python 3",
   "language": "python",
   "name": "python3"
  },
  "language_info": {
   "codemirror_mode": {
    "name": "ipython",
    "version": 3
   },
   "file_extension": ".py",
   "mimetype": "text/x-python",
   "name": "python",
   "nbconvert_exporter": "python",
   "pygments_lexer": "ipython3",
   "version": "3.6.5"
  }
 },
 "nbformat": 4,
 "nbformat_minor": 2
}
